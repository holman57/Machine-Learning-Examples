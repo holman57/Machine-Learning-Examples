{
  "nbformat": 4,
  "nbformat_minor": 0,
  "metadata": {
    "colab": {
      "provenance": [],
      "authorship_tag": "ABX9TyMLO/Ot2fpc4pZ3HDBt/2qd",
      "include_colab_link": true
    },
    "kernelspec": {
      "name": "python3",
      "display_name": "Python 3"
    },
    "language_info": {
      "name": "python"
    }
  },
  "cells": [
    {
      "cell_type": "markdown",
      "metadata": {
        "id": "view-in-github",
        "colab_type": "text"
      },
      "source": [
        "<a href=\"https://colab.research.google.com/github/holman57/Machine-Learning-Examples/blob/master/Statistics.ipynb\" target=\"_parent\"><img src=\"https://colab.research.google.com/assets/colab-badge.svg\" alt=\"Open In Colab\"/></a>"
      ]
    },
    {
      "cell_type": "markdown",
      "source": [
        "# General Statistics"
      ],
      "metadata": {
        "id": "NsSq8yrW_q-0"
      }
    },
    {
      "cell_type": "code",
      "source": [
        "import numpy as np\n",
        "from scipy import stats"
      ],
      "metadata": {
        "id": "sabzD-8eI4uB"
      },
      "execution_count": 1,
      "outputs": []
    },
    {
      "cell_type": "code",
      "source": [
        "age_group = np.array([8, 9, 8, 10, 10, 9, 10, 10, 11, 8, 10])\n",
        "mean_age_group = np.mean(age_group)\n",
        "median_age_group = np.median(age_group)\n",
        "mode_age_group = stats.mode(age_group)\n",
        "\n",
        "print(\"Mean age: \", mean_age_group)\n",
        "print(\"Median age: \", median_age_group)\n",
        "print(\"Mode age: \", mode_age_group.mode)"
      ],
      "metadata": {
        "id": "nItks8W-I3Or",
        "outputId": "d1038615-2027-45a9-9a1b-ae75de42a3e3",
        "colab": {
          "base_uri": "https://localhost:8080/"
        }
      },
      "execution_count": 2,
      "outputs": [
        {
          "output_type": "stream",
          "name": "stdout",
          "text": [
            "Mean age:  9.363636363636363\n",
            "Median age:  10.0\n",
            "Mode age:  10\n"
          ]
        }
      ]
    },
    {
      "cell_type": "markdown",
      "source": [
        "> The normal distribution is one that is symmetric around the mean and for which values closer to the mean are more common."
      ],
      "metadata": {
        "id": "_LJlUXzLAt_8"
      }
    },
    {
      "cell_type": "code",
      "execution_count": 3,
      "metadata": {
        "colab": {
          "base_uri": "https://localhost:8080/"
        },
        "id": "7BE99Uu__lbo",
        "outputId": "3e7bf67f-81a2-4426-b95a-a0760f6a3516"
      },
      "outputs": [
        {
          "output_type": "stream",
          "name": "stdout",
          "text": [
            "PearsonRResult(statistic=0.9999999999999999, pvalue=0.0)\n"
          ]
        }
      ],
      "source": [
        "array_1 = np.array([1,2,3,4,5,6])  # Create a numpy array from a list\n",
        "array_2 = array_1  # Create another array with the same values\n",
        "print(stats.pearsonr(array_1, array_2))  # Calculate the correlation which will be 1 since the values are the same"
      ]
    },
    {
      "cell_type": "markdown",
      "source": [
        "## Generate 10 values randomly sampled from a normal distribution with mean 0 and standard deviation of 10"
      ],
      "metadata": {
        "id": "R5KRIOxMAB87"
      }
    },
    {
      "cell_type": "code",
      "source": [
        "x = stats.norm.rvs(loc=0, scale=10, size=10)\n",
        "print(x)"
      ],
      "metadata": {
        "colab": {
          "base_uri": "https://localhost:8080/"
        },
        "id": "5FcKa-xV_qDM",
        "outputId": "8ec134e9-0027-4273-e8f3-f7874e6b2e7b"
      },
      "execution_count": 4,
      "outputs": [
        {
          "output_type": "stream",
          "name": "stdout",
          "text": [
            "[-13.17329984   2.31198916  -5.76944412   3.36679535  32.34810134\n",
            "   9.02465566  13.76215051   0.6889418    7.01567845  -0.4526745 ]\n"
          ]
        }
      ]
    },
    {
      "cell_type": "code",
      "source": [
        "p1 = stats.norm.pdf(x=-100, loc=0, scale=10)  # Get probability of sampling a value of -100\n",
        "p2 = stats.norm.pdf(x=0, loc=0, scale=10)     # Get probability of sampling a value of 0\n",
        "print(p1)\n",
        "print(p2)"
      ],
      "metadata": {
        "colab": {
          "base_uri": "https://localhost:8080/"
        },
        "id": "QGW7av7X_qmL",
        "outputId": "c0fcb403-4fbe-4896-8f7d-2a79e73256e8"
      },
      "execution_count": 5,
      "outputs": [
        {
          "output_type": "stream",
          "name": "stdout",
          "text": [
            "7.69459862670642e-24\n",
            "0.03989422804014327\n"
          ]
        }
      ]
    },
    {
      "cell_type": "markdown",
      "source": [
        "## Get probability of sampling a value less than or equal to 0"
      ],
      "metadata": {
        "id": "t_BcEiHTAJ5E"
      }
    },
    {
      "cell_type": "code",
      "source": [
        "p1 = stats.norm.cdf(x=0, loc=0, scale=10)\n",
        "print(p1)"
      ],
      "metadata": {
        "colab": {
          "base_uri": "https://localhost:8080/"
        },
        "id": "u10U_p_l_qkM",
        "outputId": "64b9960d-2f66-4d44-fa69-fc974bb34ff5"
      },
      "execution_count": 6,
      "outputs": [
        {
          "output_type": "stream",
          "name": "stdout",
          "text": [
            "0.5\n"
          ]
        }
      ]
    },
    {
      "cell_type": "markdown",
      "source": [
        "## Calculate descriptive statistics for 500 data points sampled from normal distribution with mean 0 and standard deviation of 1"
      ],
      "metadata": {
        "id": "yHvjkg6OAQrz"
      }
    },
    {
      "cell_type": "code",
      "source": [
        "print(stats.describe(stats.norm.rvs(loc=0, scale=1, size=500)))"
      ],
      "metadata": {
        "colab": {
          "base_uri": "https://localhost:8080/"
        },
        "id": "JkdsC5QI_qh7",
        "outputId": "12ad8521-2c9d-42c4-f943-f21a7372e043"
      },
      "execution_count": 7,
      "outputs": [
        {
          "output_type": "stream",
          "name": "stdout",
          "text": [
            "DescribeResult(nobs=500, minmax=(-3.2580121313530905, 3.3219702241573854), mean=0.034185999820046234, variance=1.100770014138582, skewness=0.026818819540788175, kurtosis=-0.013005095510374876)\n"
          ]
        }
      ]
    },
    {
      "cell_type": "markdown",
      "source": [
        "\n",
        "\n",
        ">  The variance is the square of the standard deviation. The skewness is a measure of the asymmetry of the distribution. The kurtosis is a measure of the “tailedness” of the distribution. A large value usually means there are more outliers.\n",
        "\n"
      ],
      "metadata": {
        "id": "rgsZfOssAkHM"
      }
    },
    {
      "cell_type": "code",
      "source": [],
      "metadata": {
        "id": "AOZXjGqGAR-A"
      },
      "execution_count": 7,
      "outputs": []
    }
  ]
}