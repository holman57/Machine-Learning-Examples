{
  "nbformat": 4,
  "nbformat_minor": 0,
  "metadata": {
    "colab": {
      "provenance": [],
      "authorship_tag": "ABX9TyOjZ8OY2obB8NyJgwjsnYtg",
      "include_colab_link": true
    },
    "kernelspec": {
      "name": "python3",
      "display_name": "Python 3"
    },
    "language_info": {
      "name": "python"
    }
  },
  "cells": [
    {
      "cell_type": "markdown",
      "metadata": {
        "id": "view-in-github",
        "colab_type": "text"
      },
      "source": [
        "<a href=\"https://colab.research.google.com/github/holman57/Machine-Learning-Examples/blob/master/Statistics.ipynb\" target=\"_parent\"><img src=\"https://colab.research.google.com/assets/colab-badge.svg\" alt=\"Open In Colab\"/></a>"
      ]
    },
    {
      "cell_type": "markdown",
      "source": [
        "# General Statistics"
      ],
      "metadata": {
        "id": "NsSq8yrW_q-0"
      }
    },
    {
      "cell_type": "markdown",
      "source": [
        "> The normal distribution is one that is symmetric around the mean and for which values closer to the mean are more common."
      ],
      "metadata": {
        "id": "_LJlUXzLAt_8"
      }
    },
    {
      "cell_type": "code",
      "execution_count": 9,
      "metadata": {
        "colab": {
          "base_uri": "https://localhost:8080/"
        },
        "id": "7BE99Uu__lbo",
        "outputId": "b1d30b4c-c22c-4455-d684-0afe20b583c8"
      },
      "outputs": [
        {
          "output_type": "stream",
          "name": "stdout",
          "text": [
            "PearsonRResult(statistic=0.9999999999999999, pvalue=0.0)\n"
          ]
        }
      ],
      "source": [
        "from scipy import stats\n",
        "import numpy as np\n",
        "\n",
        "array_1 = np.array([1,2,3,4,5,6])  # Create a numpy array from a list\n",
        "array_2 = array_1  # Create another array with the same values\n",
        "print(stats.pearsonr(array_1, array_2))  # Calculate the correlation which will be 1 since the values are the same"
      ]
    },
    {
      "cell_type": "markdown",
      "source": [
        "## Generate 10 values randomly sampled from a normal distribution with mean 0 and standard deviation of 10"
      ],
      "metadata": {
        "id": "R5KRIOxMAB87"
      }
    },
    {
      "cell_type": "code",
      "source": [
        "from scipy import stats\n",
        "\n",
        "x = stats.norm.rvs(loc=0, scale=10, size=10)\n",
        "print(x)"
      ],
      "metadata": {
        "colab": {
          "base_uri": "https://localhost:8080/"
        },
        "id": "5FcKa-xV_qDM",
        "outputId": "0eed2a40-adea-492f-f2b1-fec4bd897345"
      },
      "execution_count": 3,
      "outputs": [
        {
          "output_type": "stream",
          "name": "stdout",
          "text": [
            "[-2.90801566  9.53078246  1.8726756   1.23522981 11.84662519  1.2055968\n",
            "  4.98520516  1.60020889  0.68329871  3.32604767]\n"
          ]
        }
      ]
    },
    {
      "cell_type": "code",
      "source": [
        "from scipy import stats\n",
        "\n",
        "p1 = stats.norm.pdf(x=-100, loc=0, scale=10)  # Get probability of sampling a value of -100\n",
        "p2 = stats.norm.pdf(x=0, loc=0, scale=10)     # Get probability of sampling a value of 0\n",
        "print(p1)\n",
        "print(p2)"
      ],
      "metadata": {
        "colab": {
          "base_uri": "https://localhost:8080/"
        },
        "id": "QGW7av7X_qmL",
        "outputId": "0233aeef-5a42-4a27-cf40-f508a6841e87"
      },
      "execution_count": 8,
      "outputs": [
        {
          "output_type": "stream",
          "name": "stdout",
          "text": [
            "7.69459862670642e-24\n",
            "0.03989422804014327\n"
          ]
        }
      ]
    },
    {
      "cell_type": "markdown",
      "source": [
        "## Get probability of sampling a value less than or equal to 0"
      ],
      "metadata": {
        "id": "t_BcEiHTAJ5E"
      }
    },
    {
      "cell_type": "code",
      "source": [
        "from scipy import stats\n",
        "\n",
        "p1 = stats.norm.cdf(x=0, loc=0, scale=10)\n",
        "print(p1)"
      ],
      "metadata": {
        "colab": {
          "base_uri": "https://localhost:8080/"
        },
        "id": "u10U_p_l_qkM",
        "outputId": "a28c6950-6083-4873-f216-741c7b481370"
      },
      "execution_count": 7,
      "outputs": [
        {
          "output_type": "stream",
          "name": "stdout",
          "text": [
            "0.5\n"
          ]
        }
      ]
    },
    {
      "cell_type": "markdown",
      "source": [
        "## Calculate descriptive statistics for 500 data points sampled from normal distribution with mean 0 and standard deviation of 1"
      ],
      "metadata": {
        "id": "yHvjkg6OAQrz"
      }
    },
    {
      "cell_type": "code",
      "source": [
        "from scipy import stats\n",
        "\n",
        "print(stats.describe(stats.norm.rvs(loc=0, scale=1, size=500)))"
      ],
      "metadata": {
        "colab": {
          "base_uri": "https://localhost:8080/"
        },
        "id": "JkdsC5QI_qh7",
        "outputId": "4ed3c36b-00d6-4577-b751-ebe0c1a0971a"
      },
      "execution_count": 10,
      "outputs": [
        {
          "output_type": "stream",
          "name": "stdout",
          "text": [
            "DescribeResult(nobs=500, minmax=(-2.604168038540452, 3.446748689055428), mean=-0.014620100485767373, variance=0.937073394060117, skewness=0.06627524198935264, kurtosis=-0.022939809947539747)\n"
          ]
        }
      ]
    },
    {
      "cell_type": "markdown",
      "source": [
        "\n",
        "\n",
        ">  The variance is the square of the standard deviation. The skewness is a measure of the asymmetry of the distribution. The kurtosis is a measure of the “tailedness” of the distribution. A large value usually means there are more outliers.\n",
        "\n"
      ],
      "metadata": {
        "id": "rgsZfOssAkHM"
      }
    },
    {
      "cell_type": "code",
      "source": [],
      "metadata": {
        "id": "AOZXjGqGAR-A"
      },
      "execution_count": null,
      "outputs": []
    }
  ]
}