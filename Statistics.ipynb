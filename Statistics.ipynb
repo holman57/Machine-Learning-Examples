{
  "nbformat": 4,
  "nbformat_minor": 0,
  "metadata": {
    "colab": {
      "provenance": [],
      "authorship_tag": "ABX9TyOC6IukLFzbXMOmJbRrf/r6",
      "include_colab_link": true
    },
    "kernelspec": {
      "name": "python3",
      "display_name": "Python 3"
    },
    "language_info": {
      "name": "python"
    }
  },
  "cells": [
    {
      "cell_type": "markdown",
      "metadata": {
        "id": "view-in-github",
        "colab_type": "text"
      },
      "source": [
        "<a href=\"https://colab.research.google.com/github/holman57/Machine-Learning-Examples/blob/master/Statistics.ipynb\" target=\"_parent\"><img src=\"https://colab.research.google.com/assets/colab-badge.svg\" alt=\"Open In Colab\"/></a>"
      ]
    },
    {
      "cell_type": "markdown",
      "source": [
        "# General Statistics"
      ],
      "metadata": {
        "id": "NsSq8yrW_q-0"
      }
    },
    {
      "cell_type": "code",
      "source": [
        "import numpy as np\n",
        "from scipy import stats"
      ],
      "metadata": {
        "id": "sabzD-8eI4uB"
      },
      "execution_count": 3,
      "outputs": []
    },
    {
      "cell_type": "code",
      "source": [
        "age_group = np.array([8, 9, 8, 10, 10, 9, 10, 10, 11, 8, 10])\n",
        "mean_age_group = np.mean(age_group)\n",
        "median_age_group = np.median(age_group)\n",
        "mode_age_group = stats.mode(age_group)\n",
        "range_scores = np.ptp(age_group)\n",
        "variance_scores = np.var(age_group)\n",
        "std_scores = np.std(age_group)\n",
        "\n",
        "\n",
        "print(\"Mean age: \", mean_age_group)\n",
        "print(\"Median age: \", median_age_group)\n",
        "print(\"Mode age: \", mode_age_group)\n",
        "print(\"Range age:\", range_scores)\n",
        "print(\"Variance age:\", variance_scores)\n",
        "print(\"Standard deviation age:\", std_scores)"
      ],
      "metadata": {
        "id": "nItks8W-I3Or",
        "outputId": "491c7553-4065-4d6d-8321-0f366d8a0265",
        "colab": {
          "base_uri": "https://localhost:8080/"
        }
      },
      "execution_count": 4,
      "outputs": [
        {
          "output_type": "stream",
          "name": "stdout",
          "text": [
            "Mean age:  9.363636363636363\n",
            "Median age:  10.0\n",
            "Mode age:  ModeResult(mode=10, count=5)\n",
            "Range age: 3\n",
            "Variance age: 0.9586776859504131\n",
            "Standard deviation age: 0.9791208740244552\n"
          ]
        }
      ]
    },
    {
      "cell_type": "markdown",
      "source": [
        "> The normal distribution is one that is symmetric around the mean and for which values closer to the mean are more common."
      ],
      "metadata": {
        "id": "_LJlUXzLAt_8"
      }
    },
    {
      "cell_type": "code",
      "execution_count": 5,
      "metadata": {
        "colab": {
          "base_uri": "https://localhost:8080/"
        },
        "id": "7BE99Uu__lbo",
        "outputId": "c4621664-8120-4fc9-96cf-70bcfda273c3"
      },
      "outputs": [
        {
          "output_type": "stream",
          "name": "stdout",
          "text": [
            "PearsonRResult(statistic=0.9999999999999999, pvalue=0.0)\n"
          ]
        }
      ],
      "source": [
        "array_1 = np.array([1,2,3,4,5,6])  # Create a numpy array from a list\n",
        "array_2 = array_1  # Create another array with the same values\n",
        "print(stats.pearsonr(array_1, array_2))  # Calculate the correlation which will be 1 since the values are the same"
      ]
    },
    {
      "cell_type": "markdown",
      "source": [
        "## Generate 10 values randomly sampled from a normal distribution with mean 0 and standard deviation of 10"
      ],
      "metadata": {
        "id": "R5KRIOxMAB87"
      }
    },
    {
      "cell_type": "code",
      "source": [
        "x = stats.norm.rvs(loc=0, scale=10, size=10)\n",
        "print(x)"
      ],
      "metadata": {
        "colab": {
          "base_uri": "https://localhost:8080/"
        },
        "id": "5FcKa-xV_qDM",
        "outputId": "61ab0831-5bfe-48b6-e7f5-bc42cc6de103"
      },
      "execution_count": 6,
      "outputs": [
        {
          "output_type": "stream",
          "name": "stdout",
          "text": [
            "[ -3.25671844   3.55262131   3.13676295 -12.86206122  -9.8438596\n",
            "   3.58126583   2.84357411 -22.17396708   2.12593448 -15.37192314]\n"
          ]
        }
      ]
    },
    {
      "cell_type": "code",
      "source": [
        "p1 = stats.norm.pdf(x=-100, loc=0, scale=10)  # Get probability of sampling a value of -100\n",
        "p2 = stats.norm.pdf(x=0, loc=0, scale=10)     # Get probability of sampling a value of 0\n",
        "print(p1)\n",
        "print(p2)"
      ],
      "metadata": {
        "colab": {
          "base_uri": "https://localhost:8080/"
        },
        "id": "QGW7av7X_qmL",
        "outputId": "68e1209b-c2d5-4998-ed1e-f06001ba40b8"
      },
      "execution_count": 7,
      "outputs": [
        {
          "output_type": "stream",
          "name": "stdout",
          "text": [
            "7.69459862670642e-24\n",
            "0.03989422804014327\n"
          ]
        }
      ]
    },
    {
      "cell_type": "markdown",
      "source": [
        "## Get probability of sampling a value less than or equal to 0"
      ],
      "metadata": {
        "id": "t_BcEiHTAJ5E"
      }
    },
    {
      "cell_type": "code",
      "source": [
        "p1 = stats.norm.cdf(x=0, loc=0, scale=10)\n",
        "print(p1)"
      ],
      "metadata": {
        "colab": {
          "base_uri": "https://localhost:8080/"
        },
        "id": "u10U_p_l_qkM",
        "outputId": "283cc2aa-93a2-42bb-ed6e-1483c6835461"
      },
      "execution_count": 8,
      "outputs": [
        {
          "output_type": "stream",
          "name": "stdout",
          "text": [
            "0.5\n"
          ]
        }
      ]
    },
    {
      "cell_type": "markdown",
      "source": [
        "## Calculate descriptive statistics for 500 data points sampled from normal distribution with mean 0 and standard deviation of 1"
      ],
      "metadata": {
        "id": "yHvjkg6OAQrz"
      }
    },
    {
      "cell_type": "code",
      "source": [
        "print(stats.describe(stats.norm.rvs(loc=0, scale=1, size=500)))"
      ],
      "metadata": {
        "colab": {
          "base_uri": "https://localhost:8080/"
        },
        "id": "JkdsC5QI_qh7",
        "outputId": "bf9d2a66-ba9c-43d6-b5c1-8003d07f6571"
      },
      "execution_count": 9,
      "outputs": [
        {
          "output_type": "stream",
          "name": "stdout",
          "text": [
            "DescribeResult(nobs=500, minmax=(-3.0012204600061825, 3.5056710197549714), mean=0.0559897448584695, variance=1.0909723331877352, skewness=0.22885779747641005, kurtosis=0.278577558985881)\n"
          ]
        }
      ]
    },
    {
      "cell_type": "markdown",
      "source": [
        "\n",
        "\n",
        ">  The variance is the square of the standard deviation. The skewness is a measure of the asymmetry of the distribution. The kurtosis is a measure of the “tailedness” of the distribution. A large value usually means there are more outliers.\n",
        "\n"
      ],
      "metadata": {
        "id": "rgsZfOssAkHM"
      }
    },
    {
      "cell_type": "code",
      "source": [],
      "metadata": {
        "id": "AOZXjGqGAR-A"
      },
      "execution_count": 9,
      "outputs": []
    }
  ]
}