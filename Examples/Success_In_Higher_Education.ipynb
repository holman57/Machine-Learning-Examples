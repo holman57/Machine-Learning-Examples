{
 "cells": [
  {
   "cell_type": "markdown",
   "metadata": {
    "colab_type": "text",
    "id": "5HmopDWYcEQA"
   },
   "source": [
    "# Analysis of Success in Higher Education"
   ]
  },
  {
   "cell_type": "code",
   "execution_count": null,
   "metadata": {
    "colab": {
     "base_uri": "https://localhost:8080/",
     "height": 213
    },
    "colab_type": "code",
    "id": "gfv7KG5Gwzco",
    "outputId": "658b0487-05a9-4b36-9176-938a63234400"
   },
   "outputs": [
    {
     "name": "stdout",
     "output_type": "stream",
     "text": [
      "Collecting plotly==4.2.1\n",
      "\u001b[?25l  Downloading https://files.pythonhosted.org/packages/f7/05/3c32c6bc85acbd30a18fbc3ba732fed5e48e5f8fd60d2a148877970f4a61/plotly-4.2.1-py2.py3-none-any.whl (7.2MB)\n",
      "\u001b[K     |████████████████████████████████| 7.2MB 4.9MB/s \n",
      "\u001b[?25hRequirement already satisfied: retrying>=1.3.3 in /usr/local/lib/python3.6/dist-packages (from plotly==4.2.1) (1.3.3)\n",
      "Requirement already satisfied: six in /usr/local/lib/python3.6/dist-packages (from plotly==4.2.1) (1.12.0)\n",
      "Installing collected packages: plotly\n",
      "  Found existing installation: plotly 4.1.1\n",
      "    Uninstalling plotly-4.1.1:\n",
      "      Successfully uninstalled plotly-4.1.1\n",
      "Successfully installed plotly-4.2.1\n"
     ]
    }
   ],
   "source": [
    "pip install plotly==4.2.1"
   ]
  },
  {
   "cell_type": "code",
   "execution_count": null,
   "metadata": {
    "colab": {},
    "colab_type": "code",
    "id": "WxHHW5FPxhef"
   },
   "outputs": [],
   "source": [
    "def configure_plotly_browser_state():\n",
    "  import IPython\n",
    "  display(IPython.core.display.HTML('''\n",
    "        <script src=\"/static/components/requirejs/require.js\"></script>\n",
    "        <script>\n",
    "          requirejs.config({\n",
    "            paths: {\n",
    "              base: '/static/base',\n",
    "              plotly: 'https://cdn.plot.ly/plotly-latest.min.js?noext',\n",
    "            },\n",
    "          });\n",
    "        </script>\n",
    "        '''))"
   ]
  },
  {
   "cell_type": "code",
   "execution_count": null,
   "metadata": {
    "_uuid": "43238ed722ec0c0d7739c4442c6cc3db176a8080",
    "colab": {
     "base_uri": "https://localhost:8080/",
     "height": 17
    },
    "colab_type": "code",
    "id": "g3p8rcRO3iGT",
    "outputId": "6c91b984-ed29-4beb-ae98-a6a992295632"
   },
   "outputs": [
    {
     "data": {
      "text/html": [
       "        <script type=\"text/javascript\">\n",
       "        window.PlotlyConfig = {MathJaxConfig: 'local'};\n",
       "        if (window.MathJax) {MathJax.Hub.Config({SVG: {font: \"STIX-Web\"}});}\n",
       "        if (typeof require !== 'undefined') {\n",
       "        require.undef(\"plotly\");\n",
       "        requirejs.config({\n",
       "            paths: {\n",
       "                'plotly': ['https://cdn.plot.ly/plotly-latest.min']\n",
       "            }\n",
       "        });\n",
       "        require(['plotly'], function(Plotly) {\n",
       "            window._Plotly = Plotly;\n",
       "        });\n",
       "        }\n",
       "        </script>\n",
       "        "
      ]
     },
     "metadata": {
      "tags": []
     },
     "output_type": "display_data"
    }
   ],
   "source": [
    "import numpy as np\n",
    "from numpy import set_printoptions\n",
    "import pandas as pd\n",
    "import seaborn as sns\n",
    "import matplotlib.pyplot as plt\n",
    "from collections import Counter\n",
    "import chart_studio.plotly as py\n",
    "from plotly.offline import init_notebook_mode, iplot\n",
    "init_notebook_mode(connected=True)\n",
    "import plotly.graph_objs as go\n",
    "from wordcloud import WordCloud\n",
    "from sklearn.preprocessing import Binarizer\n",
    "%matplotlib inline\n",
    "from sklearn import datasets, svm, metrics,model_selection\n",
    "from sklearn import linear_model"
   ]
  },
  {
   "cell_type": "code",
   "execution_count": null,
   "metadata": {
    "colab": {
     "base_uri": "https://localhost:8080/",
     "height": 428
    },
    "colab_type": "code",
    "id": "sicjhFEX-b9J",
    "outputId": "78aeaba0-d6a5-4086-8fbd-0eb443a3700b"
   },
   "outputs": [
    {
     "data": {
      "text/html": [
       "<div>\n",
       "<style scoped>\n",
       "    .dataframe tbody tr th:only-of-type {\n",
       "        vertical-align: middle;\n",
       "    }\n",
       "\n",
       "    .dataframe tbody tr th {\n",
       "        vertical-align: top;\n",
       "    }\n",
       "\n",
       "    .dataframe thead th {\n",
       "        text-align: right;\n",
       "    }\n",
       "</style>\n",
       "<table border=\"1\" class=\"dataframe\">\n",
       "  <thead>\n",
       "    <tr style=\"text-align: right;\">\n",
       "      <th></th>\n",
       "      <th>year</th>\n",
       "      <th>world_rank_bin</th>\n",
       "      <th>world_rank_bin_num</th>\n",
       "      <th>university_name</th>\n",
       "      <th>country</th>\n",
       "      <th>teaching</th>\n",
       "      <th>international</th>\n",
       "      <th>research</th>\n",
       "      <th>citations</th>\n",
       "      <th>income</th>\n",
       "      <th>num_students</th>\n",
       "      <th>student_staff_ratio</th>\n",
       "      <th>international_students</th>\n",
       "      <th>female_percentage</th>\n",
       "      <th>world_rank</th>\n",
       "    </tr>\n",
       "  </thead>\n",
       "  <tbody>\n",
       "    <tr>\n",
       "      <th>0</th>\n",
       "      <td>2016</td>\n",
       "      <td>601-800</td>\n",
       "      <td>10</td>\n",
       "      <td>American University of Sharjah</td>\n",
       "      <td>United Arab Emirates</td>\n",
       "      <td>12.4</td>\n",
       "      <td>95.6</td>\n",
       "      <td>10.6</td>\n",
       "      <td>13.3</td>\n",
       "      <td>33.3</td>\n",
       "      <td>5226</td>\n",
       "      <td>14.1</td>\n",
       "      <td>0.82</td>\n",
       "      <td>0.48</td>\n",
       "      <td>601-800</td>\n",
       "    </tr>\n",
       "    <tr>\n",
       "      <th>1</th>\n",
       "      <td>2016</td>\n",
       "      <td>251-300</td>\n",
       "      <td>5</td>\n",
       "      <td>Royal College of Surgeons in Ireland</td>\n",
       "      <td>Republic of Ireland</td>\n",
       "      <td>29.9</td>\n",
       "      <td>90.1</td>\n",
       "      <td>20.1</td>\n",
       "      <td>65.3</td>\n",
       "      <td>33.9</td>\n",
       "      <td>2473</td>\n",
       "      <td>15.6</td>\n",
       "      <td>0.63</td>\n",
       "      <td>0.55</td>\n",
       "      <td>251-300</td>\n",
       "    </tr>\n",
       "    <tr>\n",
       "      <th>2</th>\n",
       "      <td>2015</td>\n",
       "      <td>351-400</td>\n",
       "      <td>7</td>\n",
       "      <td>Royal College of Surgeons in Ireland</td>\n",
       "      <td>Republic of Ireland</td>\n",
       "      <td>24.7</td>\n",
       "      <td>82.6</td>\n",
       "      <td>18.9</td>\n",
       "      <td>43.5</td>\n",
       "      <td>28.4</td>\n",
       "      <td>2473</td>\n",
       "      <td>15.6</td>\n",
       "      <td>0.63</td>\n",
       "      <td>0.55</td>\n",
       "      <td>351-400</td>\n",
       "    </tr>\n",
       "    <tr>\n",
       "      <th>3</th>\n",
       "      <td>2016</td>\n",
       "      <td>1-50</td>\n",
       "      <td>0</td>\n",
       "      <td>Ã‰cole Polytechnique FÃ©dÃ©rale de Lausanne</td>\n",
       "      <td>Switzerland</td>\n",
       "      <td>61.3</td>\n",
       "      <td>98.6</td>\n",
       "      <td>67.5</td>\n",
       "      <td>94.6</td>\n",
       "      <td>65.4</td>\n",
       "      <td>9666</td>\n",
       "      <td>10.5</td>\n",
       "      <td>0.54</td>\n",
       "      <td>0.27</td>\n",
       "      <td>31</td>\n",
       "    </tr>\n",
       "    <tr>\n",
       "      <th>4</th>\n",
       "      <td>2013</td>\n",
       "      <td>1-50</td>\n",
       "      <td>0</td>\n",
       "      <td>Ã‰cole Polytechnique FÃ©dÃ©rale de Lausanne</td>\n",
       "      <td>Switzerland</td>\n",
       "      <td>62.4</td>\n",
       "      <td>98.8</td>\n",
       "      <td>57.0</td>\n",
       "      <td>95.0</td>\n",
       "      <td>49.8</td>\n",
       "      <td>9666</td>\n",
       "      <td>10.5</td>\n",
       "      <td>0.54</td>\n",
       "      <td>0.27</td>\n",
       "      <td>40</td>\n",
       "    </tr>\n",
       "  </tbody>\n",
       "</table>\n",
       "</div>"
      ],
      "text/plain": [
       "   year world_rank_bin  ...  female_percentage world_rank\n",
       "0  2016        601-800  ...               0.48    601-800\n",
       "1  2016        251-300  ...               0.55    251-300\n",
       "2  2015        351-400  ...               0.55    351-400\n",
       "3  2016           1-50  ...               0.27         31\n",
       "4  2013           1-50  ...               0.27         40\n",
       "\n",
       "[5 rows x 15 columns]"
      ]
     },
     "execution_count": 4,
     "metadata": {
      "tags": []
     },
     "output_type": "execute_result"
    }
   ],
   "source": [
    "timesData = pd.read_csv(\"http://lukeholman.net/datasets/timesData.csv\")\n",
    "timesData_v2 = pd.read_csv(\"http://lukeholman.net/datasets/timesData_v2.csv\",thousands=',')\n",
    "preProcessedTimesData = pd.read_csv(\"http://lukeholman.net/datasets/preProcessedTimesData.csv\")\n",
    "percentage_people_below_poverty_level = pd.read_csv('http://lukeholman.net/datasets/PercentagePeopleBelowPovertyLevel.csv', encoding=\"windows-1252\")\n",
    "percent_over_25_completed_highSchool = pd.read_csv('http://lukeholman.net/datasets/PercentOver25CompletedHighSchool.csv', encoding=\"windows-1252\")\n",
    "timesData_v2.head()"
   ]
  },
  {
   "cell_type": "code",
   "execution_count": null,
   "metadata": {
    "colab": {
     "base_uri": "https://localhost:8080/",
     "height": 334
    },
    "colab_type": "code",
    "id": "C94HWnm2JZze",
    "outputId": "385796ae-ae1a-4b71-b4a6-a37de037c7ad"
   },
   "outputs": [
    {
     "name": "stdout",
     "output_type": "stream",
     "text": [
      "dtypes\n",
      "\n",
      " year                        int64\n",
      "world_rank_bin             object\n",
      "world_rank_bin_num          int64\n",
      "university_name            object\n",
      "country                    object\n",
      "teaching                  float64\n",
      "international             float64\n",
      "research                  float64\n",
      "citations                 float64\n",
      "income                    float64\n",
      "num_students                int64\n",
      "student_staff_ratio       float64\n",
      "international_students    float64\n",
      "female_percentage         float64\n",
      "world_rank                 object\n",
      "dtype: object\n"
     ]
    }
   ],
   "source": [
    "print('dtypes\\n\\n',timesData_v2.dtypes)"
   ]
  },
  {
   "cell_type": "code",
   "execution_count": null,
   "metadata": {
    "colab": {},
    "colab_type": "code",
    "id": "imALGGEC3g-a"
   },
   "outputs": [],
   "source": [
    "y=timesData_v2.world_rank_bin_num.values"
   ]
  },
  {
   "cell_type": "code",
   "execution_count": null,
   "metadata": {
    "colab": {},
    "colab_type": "code",
    "id": "87Hvt0EaLPRK"
   },
   "outputs": [],
   "source": [
    "X=timesData_v2[['teaching','international','research','citations','income','num_students','student_staff_ratio','international_students','female_percentage']].values"
   ]
  },
  {
   "cell_type": "code",
   "execution_count": null,
   "metadata": {
    "colab": {},
    "colab_type": "code",
    "id": "pUKvjbhKKnl1"
   },
   "outputs": [],
   "source": [
    "X_train, X_test, y_train, y_test = model_selection.train_test_split(X, y, stratify=y, test_size=0.20)"
   ]
  },
  {
   "cell_type": "code",
   "execution_count": null,
   "metadata": {
    "colab": {
     "base_uri": "https://localhost:8080/",
     "height": 223
    },
    "colab_type": "code",
    "id": "QSFqYS4TkbED",
    "outputId": "729b8c13-f73e-4178-bf3a-2fba67343fca"
   },
   "outputs": [
    {
     "data": {
      "text/html": [
       "<div>\n",
       "<style scoped>\n",
       "    .dataframe tbody tr th:only-of-type {\n",
       "        vertical-align: middle;\n",
       "    }\n",
       "\n",
       "    .dataframe tbody tr th {\n",
       "        vertical-align: top;\n",
       "    }\n",
       "\n",
       "    .dataframe thead th {\n",
       "        text-align: right;\n",
       "    }\n",
       "</style>\n",
       "<table border=\"1\" class=\"dataframe\">\n",
       "  <thead>\n",
       "    <tr style=\"text-align: right;\">\n",
       "      <th></th>\n",
       "      <th>year</th>\n",
       "      <th>teaching</th>\n",
       "      <th>international</th>\n",
       "      <th>research</th>\n",
       "      <th>citations</th>\n",
       "      <th>income</th>\n",
       "      <th>num_students</th>\n",
       "      <th>student_staff_ratio</th>\n",
       "      <th>international_students</th>\n",
       "      <th>world_rank</th>\n",
       "    </tr>\n",
       "  </thead>\n",
       "  <tbody>\n",
       "    <tr>\n",
       "      <th>0</th>\n",
       "      <td>2011</td>\n",
       "      <td>99.7</td>\n",
       "      <td>72.4</td>\n",
       "      <td>98.7</td>\n",
       "      <td>98.8</td>\n",
       "      <td>34.5</td>\n",
       "      <td>20,152</td>\n",
       "      <td>8.9</td>\n",
       "      <td>0.25</td>\n",
       "      <td>1</td>\n",
       "    </tr>\n",
       "    <tr>\n",
       "      <th>1</th>\n",
       "      <td>2011</td>\n",
       "      <td>97.7</td>\n",
       "      <td>54.6</td>\n",
       "      <td>98.0</td>\n",
       "      <td>99.9</td>\n",
       "      <td>83.7</td>\n",
       "      <td>2,243</td>\n",
       "      <td>6.9</td>\n",
       "      <td>0.27</td>\n",
       "      <td>2</td>\n",
       "    </tr>\n",
       "    <tr>\n",
       "      <th>2</th>\n",
       "      <td>2011</td>\n",
       "      <td>97.8</td>\n",
       "      <td>82.3</td>\n",
       "      <td>91.4</td>\n",
       "      <td>99.9</td>\n",
       "      <td>87.5</td>\n",
       "      <td>11,074</td>\n",
       "      <td>9</td>\n",
       "      <td>0.33</td>\n",
       "      <td>3</td>\n",
       "    </tr>\n",
       "    <tr>\n",
       "      <th>3</th>\n",
       "      <td>2013</td>\n",
       "      <td>96.3</td>\n",
       "      <td>59.8</td>\n",
       "      <td>99.4</td>\n",
       "      <td>99.7</td>\n",
       "      <td>95.6</td>\n",
       "      <td>2,243</td>\n",
       "      <td>6.9</td>\n",
       "      <td>0.27</td>\n",
       "      <td>1</td>\n",
       "    </tr>\n",
       "    <tr>\n",
       "      <th>4</th>\n",
       "      <td>2016</td>\n",
       "      <td>95.6</td>\n",
       "      <td>64.0</td>\n",
       "      <td>97.6</td>\n",
       "      <td>99.8</td>\n",
       "      <td>97.8</td>\n",
       "      <td>2,243</td>\n",
       "      <td>6.9</td>\n",
       "      <td>0.27</td>\n",
       "      <td>1</td>\n",
       "    </tr>\n",
       "  </tbody>\n",
       "</table>\n",
       "</div>"
      ],
      "text/plain": [
       "   year  teaching  ...  international_students  world_rank\n",
       "0  2011      99.7  ...                    0.25           1\n",
       "1  2011      97.7  ...                    0.27           2\n",
       "2  2011      97.8  ...                    0.33           3\n",
       "3  2013      96.3  ...                    0.27           1\n",
       "4  2016      95.6  ...                    0.27           1\n",
       "\n",
       "[5 rows x 10 columns]"
      ]
     },
     "execution_count": 9,
     "metadata": {
      "tags": []
     },
     "output_type": "execute_result"
    }
   ],
   "source": [
    "timesData.drop(columns=['world_rank_bin', 'university_name', 'country', 'total_score', 'female_male_ratio', 'female_percentage'], inplace=True)\n",
    "timesData.head()"
   ]
  },
  {
   "cell_type": "markdown",
   "metadata": {
    "colab_type": "text",
    "id": "tyqd73xsURxb"
   },
   "source": [
    "Convert string values and world rank to numeric with the rest converted to ***NaN***. "
   ]
  },
  {
   "cell_type": "code",
   "execution_count": null,
   "metadata": {
    "colab": {},
    "colab_type": "code",
    "id": "FPq76cWUcPRn"
   },
   "outputs": [],
   "source": [
    "timesData['world_rank'] = pd.to_numeric(timesData['world_rank'], errors='coerce')"
   ]
  },
  {
   "cell_type": "markdown",
   "metadata": {
    "colab_type": "text",
    "id": "r7mYyF4EcOX-"
   },
   "source": [
    "Fill with 101 so it's below the binarize threshold of 100."
   ]
  },
  {
   "cell_type": "code",
   "execution_count": null,
   "metadata": {
    "colab": {},
    "colab_type": "code",
    "id": "SzTDCCN5cX1F"
   },
   "outputs": [],
   "source": [
    "timesData['world_rank'].fillna(101, inplace=True)"
   ]
  },
  {
   "cell_type": "markdown",
   "metadata": {
    "colab_type": "text",
    "id": "tHwUkiODcXSe"
   },
   "source": [
    "Binarizer converts value to 1 if it's above the threshold so we need to invert world rank (make negative)."
   ]
  },
  {
   "cell_type": "code",
   "execution_count": null,
   "metadata": {
    "colab": {},
    "colab_type": "code",
    "id": "8RoLe8klcaGv"
   },
   "outputs": [],
   "source": [
    "timesData['world_rank'] = (timesData['world_rank'] * -1)"
   ]
  },
  {
   "cell_type": "markdown",
   "metadata": {
    "colab_type": "text",
    "id": "cDDEi9beeSrz"
   },
   "source": [
    "- prepare object or string columns for numeric conversion\n",
    "- Few columns had \"Missing\" replaced with 0\n",
    "- num students has \",\", replace with nothing \"\"\n",
    "- international students has \"%\", replace with nothing \"\""
   ]
  },
  {
   "cell_type": "code",
   "execution_count": null,
   "metadata": {
    "colab": {},
    "colab_type": "code",
    "id": "jDzgoDsIDnkN"
   },
   "outputs": [],
   "source": [
    "str_cols = timesData.select_dtypes(['object']).columns\n",
    "timesData[str_cols] = timesData[str_cols].replace('Missing', 0)\n",
    "timesData['num_students'] = timesData['num_students'].str.replace(',', '')\n",
    "timesData['international_students'] = timesData['international_students'].str.replace('%', '')"
   ]
  },
  {
   "cell_type": "markdown",
   "metadata": {
    "colab_type": "text",
    "id": "T1kc38GliUsq"
   },
   "source": [
    "Convert object or string columns to numeric."
   ]
  },
  {
   "cell_type": "code",
   "execution_count": null,
   "metadata": {
    "colab": {},
    "colab_type": "code",
    "id": "UTI83FstiWTd"
   },
   "outputs": [],
   "source": [
    "timesData[str_cols] = timesData[str_cols].apply(pd.to_numeric, errors='coerce', axis=1)"
   ]
  },
  {
   "cell_type": "markdown",
   "metadata": {
    "colab_type": "text",
    "id": "N4y8_wA4iYh6"
   },
   "source": [
    "Convert international students percentage to decimal."
   ]
  },
  {
   "cell_type": "code",
   "execution_count": null,
   "metadata": {
    "colab": {},
    "colab_type": "code",
    "id": "nK631LOPibHu"
   },
   "outputs": [],
   "source": [
    "timesData['international_students'] = timesData['international_students'] / 100"
   ]
  },
  {
   "cell_type": "markdown",
   "metadata": {
    "colab_type": "text",
    "id": "hlmQLApRi1_r"
   },
   "source": [
    "Determine number of ***NaN***s."
   ]
  },
  {
   "cell_type": "code",
   "execution_count": null,
   "metadata": {
    "colab": {
     "base_uri": "https://localhost:8080/",
     "height": 210
    },
    "colab_type": "code",
    "id": "2_lNrQZlDssF",
    "outputId": "2a8835ab-bcbf-4b86-ae1b-8627ac891681"
   },
   "outputs": [
    {
     "data": {
      "text/plain": [
       "year                       0\n",
       "teaching                   0\n",
       "international              0\n",
       "research                   0\n",
       "citations                  0\n",
       "income                     0\n",
       "num_students              59\n",
       "student_staff_ratio        0\n",
       "international_students    67\n",
       "world_rank                 0\n",
       "dtype: int64"
      ]
     },
     "execution_count": 16,
     "metadata": {
      "tags": []
     },
     "output_type": "execute_result"
    }
   ],
   "source": [
    "timesData.isna().sum()"
   ]
  },
  {
   "cell_type": "markdown",
   "metadata": {
    "colab_type": "text",
    "id": "NFZI4MKinD3d"
   },
   "source": [
    "Drop remaining ***NaN***s. "
   ]
  },
  {
   "cell_type": "code",
   "execution_count": null,
   "metadata": {
    "colab": {},
    "colab_type": "code",
    "id": "ymqluq9mDvhL"
   },
   "outputs": [],
   "source": [
    "timesData.dropna(inplace=True)"
   ]
  },
  {
   "cell_type": "markdown",
   "metadata": {
    "colab_type": "text",
    "id": "P3OIPJQ5nRNa"
   },
   "source": [
    "Check dataframe, dtypes and ***NaN***s."
   ]
  },
  {
   "cell_type": "code",
   "execution_count": null,
   "metadata": {
    "colab": {
     "base_uri": "https://localhost:8080/",
     "height": 610
    },
    "colab_type": "code",
    "id": "WW1hz_iFDx4b",
    "outputId": "854614ae-734e-47bd-ae13-2804091a51ac"
   },
   "outputs": [
    {
     "name": "stdout",
     "output_type": "stream",
     "text": [
      "year                        int64\n",
      "teaching                  float64\n",
      "international             float64\n",
      "research                  float64\n",
      "citations                 float64\n",
      "income                    float64\n",
      "num_students              float64\n",
      "student_staff_ratio       float64\n",
      "international_students    float64\n",
      "world_rank                float64\n",
      "dtype: object\n",
      "year                      0\n",
      "teaching                  0\n",
      "international             0\n",
      "research                  0\n",
      "citations                 0\n",
      "income                    0\n",
      "num_students              0\n",
      "student_staff_ratio       0\n",
      "international_students    0\n",
      "world_rank                0\n",
      "dtype: int64\n"
     ]
    },
    {
     "data": {
      "text/html": [
       "<div>\n",
       "<style scoped>\n",
       "    .dataframe tbody tr th:only-of-type {\n",
       "        vertical-align: middle;\n",
       "    }\n",
       "\n",
       "    .dataframe tbody tr th {\n",
       "        vertical-align: top;\n",
       "    }\n",
       "\n",
       "    .dataframe thead th {\n",
       "        text-align: right;\n",
       "    }\n",
       "</style>\n",
       "<table border=\"1\" class=\"dataframe\">\n",
       "  <thead>\n",
       "    <tr style=\"text-align: right;\">\n",
       "      <th></th>\n",
       "      <th>year</th>\n",
       "      <th>teaching</th>\n",
       "      <th>international</th>\n",
       "      <th>research</th>\n",
       "      <th>citations</th>\n",
       "      <th>income</th>\n",
       "      <th>num_students</th>\n",
       "      <th>student_staff_ratio</th>\n",
       "      <th>international_students</th>\n",
       "      <th>world_rank</th>\n",
       "    </tr>\n",
       "  </thead>\n",
       "  <tbody>\n",
       "    <tr>\n",
       "      <th>0</th>\n",
       "      <td>2011</td>\n",
       "      <td>99.7</td>\n",
       "      <td>72.4</td>\n",
       "      <td>98.7</td>\n",
       "      <td>98.8</td>\n",
       "      <td>34.5</td>\n",
       "      <td>20152.0</td>\n",
       "      <td>8.9</td>\n",
       "      <td>0.0025</td>\n",
       "      <td>-1.0</td>\n",
       "    </tr>\n",
       "    <tr>\n",
       "      <th>1</th>\n",
       "      <td>2011</td>\n",
       "      <td>97.7</td>\n",
       "      <td>54.6</td>\n",
       "      <td>98.0</td>\n",
       "      <td>99.9</td>\n",
       "      <td>83.7</td>\n",
       "      <td>2243.0</td>\n",
       "      <td>6.9</td>\n",
       "      <td>0.0027</td>\n",
       "      <td>-2.0</td>\n",
       "    </tr>\n",
       "    <tr>\n",
       "      <th>2</th>\n",
       "      <td>2011</td>\n",
       "      <td>97.8</td>\n",
       "      <td>82.3</td>\n",
       "      <td>91.4</td>\n",
       "      <td>99.9</td>\n",
       "      <td>87.5</td>\n",
       "      <td>11074.0</td>\n",
       "      <td>9.0</td>\n",
       "      <td>0.0033</td>\n",
       "      <td>-3.0</td>\n",
       "    </tr>\n",
       "    <tr>\n",
       "      <th>3</th>\n",
       "      <td>2013</td>\n",
       "      <td>96.3</td>\n",
       "      <td>59.8</td>\n",
       "      <td>99.4</td>\n",
       "      <td>99.7</td>\n",
       "      <td>95.6</td>\n",
       "      <td>2243.0</td>\n",
       "      <td>6.9</td>\n",
       "      <td>0.0027</td>\n",
       "      <td>-1.0</td>\n",
       "    </tr>\n",
       "    <tr>\n",
       "      <th>4</th>\n",
       "      <td>2016</td>\n",
       "      <td>95.6</td>\n",
       "      <td>64.0</td>\n",
       "      <td>97.6</td>\n",
       "      <td>99.8</td>\n",
       "      <td>97.8</td>\n",
       "      <td>2243.0</td>\n",
       "      <td>6.9</td>\n",
       "      <td>0.0027</td>\n",
       "      <td>-1.0</td>\n",
       "    </tr>\n",
       "  </tbody>\n",
       "</table>\n",
       "</div>"
      ],
      "text/plain": [
       "   year  teaching  ...  international_students  world_rank\n",
       "0  2011      99.7  ...                  0.0025        -1.0\n",
       "1  2011      97.7  ...                  0.0027        -2.0\n",
       "2  2011      97.8  ...                  0.0033        -3.0\n",
       "3  2013      96.3  ...                  0.0027        -1.0\n",
       "4  2016      95.6  ...                  0.0027        -1.0\n",
       "\n",
       "[5 rows x 10 columns]"
      ]
     },
     "execution_count": 18,
     "metadata": {
      "tags": []
     },
     "output_type": "execute_result"
    }
   ],
   "source": [
    "print(timesData.dtypes)\n",
    "print(timesData.isna().sum())\n",
    "timesData.head()"
   ]
  },
  {
   "cell_type": "markdown",
   "metadata": {
    "colab_type": "text",
    "id": "2LpSauhRnr_z"
   },
   "source": [
    "Convert times dataframe to array."
   ]
  },
  {
   "cell_type": "code",
   "execution_count": null,
   "metadata": {
    "colab": {},
    "colab_type": "code",
    "id": "-o0ZMzt9D4sx"
   },
   "outputs": [],
   "source": [
    "times_array = timesData.values\n",
    "X = times_array[:]\n",
    "y_ = times_array[:,[len(times_array[0]) - 1]]"
   ]
  },
  {
   "cell_type": "code",
   "execution_count": null,
   "metadata": {
    "colab": {
     "base_uri": "https://localhost:8080/",
     "height": 52
    },
    "colab_type": "code",
    "id": "zW3U2fXL42lI",
    "outputId": "f6b1b76d-28a3-4b0f-d00a-f76e184a036f"
   },
   "outputs": [
    {
     "data": {
      "text/plain": [
       "array([ 2011.   ,    99.7  ,    72.4  ,    98.7  ,    98.8  ,    34.5  ,\n",
       "       20152.   ,     8.9  ,     0.003,    -1.   ])"
      ]
     },
     "execution_count": 20,
     "metadata": {
      "tags": []
     },
     "output_type": "execute_result"
    }
   ],
   "source": [
    "set_printoptions(precision=3, suppress=True)\n",
    "X[0]"
   ]
  },
  {
   "cell_type": "code",
   "execution_count": null,
   "metadata": {
    "colab": {
     "base_uri": "https://localhost:8080/",
     "height": 105
    },
    "colab_type": "code",
    "id": "ul-Mej2gEGkl",
    "outputId": "9478d740-686c-4061-90f5-8eafe4f6cbb6"
   },
   "outputs": [
    {
     "data": {
      "text/plain": [
       "array([[-1.],\n",
       "       [-2.],\n",
       "       [-3.],\n",
       "       [-1.],\n",
       "       [-1.]])"
      ]
     },
     "execution_count": 21,
     "metadata": {
      "tags": []
     },
     "output_type": "execute_result"
    }
   ],
   "source": [
    "y_[:5]"
   ]
  },
  {
   "cell_type": "markdown",
   "metadata": {
    "colab_type": "text",
    "id": "9hniqc9Nn16G"
   },
   "source": [
    "Drop `world_rank`, not needed."
   ]
  },
  {
   "cell_type": "code",
   "execution_count": null,
   "metadata": {
    "colab": {},
    "colab_type": "code",
    "id": "FjrwM33laJuv"
   },
   "outputs": [],
   "source": [
    "timesData.drop(columns='world_rank', inplace=True)"
   ]
  },
  {
   "cell_type": "code",
   "execution_count": null,
   "metadata": {
    "colab": {},
    "colab_type": "code",
    "id": "SM7LYlIcEIzh"
   },
   "outputs": [],
   "source": [
    "times_array = timesData.values\n",
    "X = times_array[:]\n",
    "y_ = times_array[:,[len(times_array[0]) - 1]]"
   ]
  },
  {
   "cell_type": "code",
   "execution_count": null,
   "metadata": {
    "colab": {
     "base_uri": "https://localhost:8080/",
     "height": 52
    },
    "colab_type": "code",
    "id": "BEu6Lr1O8Q5k",
    "outputId": "86333138-0a96-4219-c27f-79291bc52c75"
   },
   "outputs": [
    {
     "data": {
      "text/plain": [
       "array([ 2011.   ,    99.7  ,    72.4  ,    98.7  ,    98.8  ,    34.5  ,\n",
       "       20152.   ,     8.9  ,     0.003])"
      ]
     },
     "execution_count": 24,
     "metadata": {
      "tags": []
     },
     "output_type": "execute_result"
    }
   ],
   "source": [
    "set_printoptions(precision=3, suppress=True)\n",
    "X[0]"
   ]
  },
  {
   "cell_type": "markdown",
   "metadata": {
    "colab_type": "text",
    "id": "7idRvFQvn596"
   },
   "source": [
    "Create binary variable."
   ]
  },
  {
   "cell_type": "code",
   "execution_count": null,
   "metadata": {
    "colab": {
     "base_uri": "https://localhost:8080/",
     "height": 140
    },
    "colab_type": "code",
    "id": "hl_8cHm3ELp_",
    "outputId": "7ef44364-03af-4fec-cc80-80f15d37da69"
   },
   "outputs": [
    {
     "name": "stdout",
     "output_type": "stream",
     "text": [
      "[[1.]\n",
      " [1.]\n",
      " [1.]\n",
      " [1.]\n",
      " [1.]] \n",
      "\n",
      " [1. 1. 1. ... 1. 1. 1.]\n"
     ]
    }
   ],
   "source": [
    "binarizer=Binarizer().fit(y_)\n",
    "y_binary=binarizer.transform(y_)\n",
    "y_reshaped = np.ravel(y_binary)\n",
    "print(y_binary[:5],\"\\n\\n\",y_reshaped)"
   ]
  },
  {
   "cell_type": "markdown",
   "metadata": {
    "colab_type": "text",
    "id": "P1CGV6FWn_Hk"
   },
   "source": [
    "Reshape using `ravel()`"
   ]
  },
  {
   "cell_type": "code",
   "execution_count": null,
   "metadata": {
    "colab": {
     "base_uri": "https://localhost:8080/",
     "height": 34
    },
    "colab_type": "code",
    "id": "tL-24ZSoENzM",
    "outputId": "00ba3b2c-f5c7-4131-dcee-782d45bb714a"
   },
   "outputs": [
    {
     "data": {
      "text/plain": [
       "array([1., 1., 1., ..., 1., 1., 1.])"
      ]
     },
     "execution_count": 26,
     "metadata": {
      "tags": []
     },
     "output_type": "execute_result"
    }
   ],
   "source": [
    "y_reshaped = np.ravel(y_binary)\n",
    "y_reshaped"
   ]
  },
  {
   "cell_type": "code",
   "execution_count": null,
   "metadata": {
    "colab": {
     "base_uri": "https://localhost:8080/",
     "height": 52
    },
    "colab_type": "code",
    "id": "bMb0af4WVuVQ",
    "outputId": "da29f5dc-bd98-49af-be07-ffcc43fbd20e"
   },
   "outputs": [
    {
     "data": {
      "text/plain": [
       "array([ 2011.   ,    99.7  ,    72.4  ,    98.7  ,    98.8  ,    34.5  ,\n",
       "       20152.   ,     8.9  ,     0.003])"
      ]
     },
     "execution_count": 27,
     "metadata": {
      "tags": []
     },
     "output_type": "execute_result"
    }
   ],
   "source": [
    "X[0]"
   ]
  },
  {
   "cell_type": "code",
   "execution_count": null,
   "metadata": {
    "colab": {
     "base_uri": "https://localhost:8080/",
     "height": 223
    },
    "colab_type": "code",
    "id": "gxHOMms8YYvk",
    "outputId": "71eee5aa-88b1-4030-ffd4-c1bc6df7a0cd",
    "scrolled": true
   },
   "outputs": [
    {
     "data": {
      "text/html": [
       "<div>\n",
       "<style scoped>\n",
       "    .dataframe tbody tr th:only-of-type {\n",
       "        vertical-align: middle;\n",
       "    }\n",
       "\n",
       "    .dataframe tbody tr th {\n",
       "        vertical-align: top;\n",
       "    }\n",
       "\n",
       "    .dataframe thead th {\n",
       "        text-align: right;\n",
       "    }\n",
       "</style>\n",
       "<table border=\"1\" class=\"dataframe\">\n",
       "  <thead>\n",
       "    <tr style=\"text-align: right;\">\n",
       "      <th></th>\n",
       "      <th>year</th>\n",
       "      <th>teaching</th>\n",
       "      <th>international</th>\n",
       "      <th>research</th>\n",
       "      <th>citations</th>\n",
       "      <th>income</th>\n",
       "      <th>num_students</th>\n",
       "      <th>student_staff_ratio</th>\n",
       "      <th>international_students</th>\n",
       "    </tr>\n",
       "  </thead>\n",
       "  <tbody>\n",
       "    <tr>\n",
       "      <th>0</th>\n",
       "      <td>2011</td>\n",
       "      <td>99.7</td>\n",
       "      <td>72.4</td>\n",
       "      <td>98.7</td>\n",
       "      <td>98.8</td>\n",
       "      <td>34.5</td>\n",
       "      <td>20152.0</td>\n",
       "      <td>8.9</td>\n",
       "      <td>0.0025</td>\n",
       "    </tr>\n",
       "    <tr>\n",
       "      <th>1</th>\n",
       "      <td>2011</td>\n",
       "      <td>97.7</td>\n",
       "      <td>54.6</td>\n",
       "      <td>98.0</td>\n",
       "      <td>99.9</td>\n",
       "      <td>83.7</td>\n",
       "      <td>2243.0</td>\n",
       "      <td>6.9</td>\n",
       "      <td>0.0027</td>\n",
       "    </tr>\n",
       "    <tr>\n",
       "      <th>2</th>\n",
       "      <td>2011</td>\n",
       "      <td>97.8</td>\n",
       "      <td>82.3</td>\n",
       "      <td>91.4</td>\n",
       "      <td>99.9</td>\n",
       "      <td>87.5</td>\n",
       "      <td>11074.0</td>\n",
       "      <td>9.0</td>\n",
       "      <td>0.0033</td>\n",
       "    </tr>\n",
       "    <tr>\n",
       "      <th>3</th>\n",
       "      <td>2013</td>\n",
       "      <td>96.3</td>\n",
       "      <td>59.8</td>\n",
       "      <td>99.4</td>\n",
       "      <td>99.7</td>\n",
       "      <td>95.6</td>\n",
       "      <td>2243.0</td>\n",
       "      <td>6.9</td>\n",
       "      <td>0.0027</td>\n",
       "    </tr>\n",
       "    <tr>\n",
       "      <th>4</th>\n",
       "      <td>2016</td>\n",
       "      <td>95.6</td>\n",
       "      <td>64.0</td>\n",
       "      <td>97.6</td>\n",
       "      <td>99.8</td>\n",
       "      <td>97.8</td>\n",
       "      <td>2243.0</td>\n",
       "      <td>6.9</td>\n",
       "      <td>0.0027</td>\n",
       "    </tr>\n",
       "  </tbody>\n",
       "</table>\n",
       "</div>"
      ],
      "text/plain": [
       "   year  teaching  ...  student_staff_ratio  international_students\n",
       "0  2011      99.7  ...                  8.9                  0.0025\n",
       "1  2011      97.7  ...                  6.9                  0.0027\n",
       "2  2011      97.8  ...                  9.0                  0.0033\n",
       "3  2013      96.3  ...                  6.9                  0.0027\n",
       "4  2016      95.6  ...                  6.9                  0.0027\n",
       "\n",
       "[5 rows x 9 columns]"
      ]
     },
     "execution_count": 28,
     "metadata": {
      "tags": []
     },
     "output_type": "execute_result"
    }
   ],
   "source": [
    "timesData.head()"
   ]
  },
  {
   "cell_type": "code",
   "execution_count": null,
   "metadata": {
    "colab": {
     "base_uri": "https://localhost:8080/",
     "height": 34
    },
    "colab_type": "code",
    "id": "v-nq_2d_I-YU",
    "outputId": "678b7028-457a-44a8-d9bd-03a87ff68deb"
   },
   "outputs": [
    {
     "name": "stdout",
     "output_type": "stream",
     "text": [
      "StratifiedKFold(n_splits=5, random_state=None, shuffle=False)\n"
     ]
    }
   ],
   "source": [
    "skf=model_selection.StratifiedKFold(n_splits=5)\n",
    "skf.get_n_splits(X_train, y_train)\n",
    "print(skf)"
   ]
  },
  {
   "cell_type": "code",
   "execution_count": null,
   "metadata": {
    "colab": {
     "base_uri": "https://localhost:8080/",
     "height": 246
    },
    "colab_type": "code",
    "id": "BUBWCAOIJcNS",
    "outputId": "e485cc5b-598f-46ef-a4b9-3996cf3be317"
   },
   "outputs": [
    {
     "name": "stderr",
     "output_type": "stream",
     "text": [
      "/usr/local/lib/python3.6/dist-packages/sklearn/linear_model/logistic.py:432: FutureWarning:\n",
      "\n",
      "Default solver will be changed to 'lbfgs' in 0.22. Specify a solver to silence this warning.\n",
      "\n",
      "/usr/local/lib/python3.6/dist-packages/sklearn/linear_model/logistic.py:469: FutureWarning:\n",
      "\n",
      "Default multi_class will be changed to 'auto' in 0.22. Specify the multi_class option to silence this warning.\n",
      "\n"
     ]
    },
    {
     "data": {
      "text/plain": [
       "LogisticRegression(C=1.0, class_weight=None, dual=False, fit_intercept=True,\n",
       "                   intercept_scaling=1, l1_ratio=None, max_iter=100,\n",
       "                   multi_class='warn', n_jobs=None, penalty='l1',\n",
       "                   random_state=None, solver='warn', tol=0.0001, verbose=0,\n",
       "                   warm_start=False)"
      ]
     },
     "execution_count": 30,
     "metadata": {
      "tags": []
     },
     "output_type": "execute_result"
    }
   ],
   "source": [
    "reglasso = linear_model.LogisticRegression(penalty='l1')\n",
    "reglasso.fit(X_train, y_train) "
   ]
  },
  {
   "cell_type": "code",
   "execution_count": null,
   "metadata": {
    "colab": {
     "base_uri": "https://localhost:8080/",
     "height": 142
    },
    "colab_type": "code",
    "id": "dxjnKr1h-dZn",
    "outputId": "c0e4d131-f39f-4fb2-8982-41fbd3ff9871"
   },
   "outputs": [
    {
     "name": "stderr",
     "output_type": "stream",
     "text": [
      "/usr/local/lib/python3.6/dist-packages/sklearn/model_selection/_search.py:814: DeprecationWarning:\n",
      "\n",
      "The default of the `iid` parameter will change from True to False in version 0.22 and will be removed in 0.24. This will change numeric results when test-set sizes are unequal.\n",
      "\n"
     ]
    },
    {
     "name": "stdout",
     "output_type": "stream",
     "text": [
      "0.3511652542372881\n",
      "{'C': 1}\n"
     ]
    }
   ],
   "source": [
    "parameters = {'C':[1e-15, 1e-10, 1e-8, 1e-5,1e-4, 1e-3,1e-2, 1, 5, 10]}\n",
    "reglasso_tuned = linear_model.LogisticRegression(penalty='l2',multi_class='auto',solver='lbfgs',max_iter=10000)\n",
    "reglasso_gridsearch = model_selection.GridSearchCV(reglasso_tuned, parameters, cv=5)\n",
    "reglasso_gridsearch.fit(X_train, y_train)\n",
    "print(reglasso_gridsearch.best_score_)\n",
    "print(reglasso_gridsearch.best_params_)"
   ]
  },
  {
   "cell_type": "code",
   "execution_count": null,
   "metadata": {
    "colab": {
     "base_uri": "https://localhost:8080/",
     "height": 105
    },
    "colab_type": "code",
    "id": "xi9c2ai-J-9z",
    "outputId": "a9be5557-4d8f-4798-932b-221dcabaffc0"
   },
   "outputs": [
    {
     "data": {
      "text/plain": [
       "LogisticRegression(C=1, class_weight=None, dual=False, fit_intercept=True,\n",
       "                   intercept_scaling=1, l1_ratio=None, max_iter=10000,\n",
       "                   multi_class='auto', n_jobs=None, penalty='l2',\n",
       "                   random_state=None, solver='lbfgs', tol=0.0001, verbose=0,\n",
       "                   warm_start=False)"
      ]
     },
     "execution_count": 32,
     "metadata": {
      "tags": []
     },
     "output_type": "execute_result"
    }
   ],
   "source": [
    "reglasso_final = linear_model.LogisticRegression(penalty='l2',C=1,multi_class='auto',solver='lbfgs',max_iter=10000)\n",
    "reglasso_final.fit(X_train, y_train)"
   ]
  },
  {
   "cell_type": "code",
   "execution_count": null,
   "metadata": {
    "colab": {
     "base_uri": "https://localhost:8080/",
     "height": 34
    },
    "colab_type": "code",
    "id": "c3WvhfRZKGE4",
    "outputId": "19619742-bcf6-4efd-b438-2899dac29136"
   },
   "outputs": [
    {
     "data": {
      "text/plain": [
       "0.3389830508474576"
      ]
     },
     "execution_count": 33,
     "metadata": {
      "tags": []
     },
     "output_type": "execute_result"
    }
   ],
   "source": [
    "predicted = reglasso_final.predict(X_test)\n",
    "metrics.accuracy_score(y_test,predicted)"
   ]
  },
  {
   "cell_type": "code",
   "execution_count": null,
   "metadata": {
    "colab": {
     "base_uri": "https://localhost:8080/",
     "height": 404
    },
    "colab_type": "code",
    "id": "szDySPzXKNCY",
    "outputId": "f625d1ab-d170-47b6-b83f-8e1a457600c2"
   },
   "outputs": [
    {
     "data": {
      "text/plain": [
       "array([[-0.085, -0.03 ,  0.3  ,  0.023, -0.068, -0.   , -0.207,  0.002,\n",
       "        -0.011],\n",
       "       [-0.05 , -0.026,  0.165,  0.043, -0.036, -0.   , -0.079, -0.   ,\n",
       "        -0.009],\n",
       "       [-0.065, -0.006,  0.13 ,  0.037, -0.02 , -0.   , -0.077,  0.001,\n",
       "        -0.008],\n",
       "       [-0.017, -0.002,  0.06 ,  0.028, -0.019, -0.   , -0.004,  0.002,\n",
       "        -0.005],\n",
       "       [ 0.005, -0.006,  0.004,  0.022, -0.011, -0.   ,  0.036, -0.001,\n",
       "        -0.003],\n",
       "       [-0.003,  0.   , -0.029,  0.008,  0.014,  0.   ,  0.046, -0.001,\n",
       "        -0.001],\n",
       "       [-0.   ,  0.006, -0.058,  0.01 ,  0.011,  0.   ,  0.043, -0.   ,\n",
       "         0.007],\n",
       "       [ 0.017,  0.013, -0.087, -0.005,  0.02 ,  0.   ,  0.057, -0.001,\n",
       "         0.008],\n",
       "       [ 0.038,  0.013, -0.092, -0.011,  0.004,  0.   ,  0.045, -0.   ,\n",
       "         0.003],\n",
       "       [ 0.05 ,  0.011, -0.15 , -0.042,  0.045,  0.   ,  0.048, -0.001,\n",
       "         0.005],\n",
       "       [ 0.111,  0.027, -0.242, -0.114,  0.059,  0.   ,  0.093, -0.001,\n",
       "         0.014]])"
      ]
     },
     "execution_count": 34,
     "metadata": {
      "tags": []
     },
     "output_type": "execute_result"
    }
   ],
   "source": [
    "reglasso_final.coef_"
   ]
  },
  {
   "cell_type": "code",
   "execution_count": null,
   "metadata": {
    "colab": {
     "base_uri": "https://localhost:8080/",
     "height": 34
    },
    "colab_type": "code",
    "id": "YcpGYJUdKM0I",
    "outputId": "1e40e84a-5764-4cf5-ada1-b2d41dd2f331"
   },
   "outputs": [
    {
     "data": {
      "text/plain": [
       "0.5201422415630996"
      ]
     },
     "execution_count": 35,
     "metadata": {
      "tags": []
     },
     "output_type": "execute_result"
    }
   ],
   "source": [
    "from sklearn import tree\n",
    "\n",
    "dectree = tree.DecisionTreeClassifier()\n",
    "dectree = dectree.fit(X_train, y_train)\n",
    "np.mean(model_selection.cross_val_score(dectree,X_train,y_train,cv=skf))"
   ]
  },
  {
   "cell_type": "code",
   "execution_count": null,
   "metadata": {
    "colab": {
     "base_uri": "https://localhost:8080/",
     "height": 52
    },
    "colab_type": "code",
    "id": "OHBvciy4KMmO",
    "outputId": "723fc577-cf7b-4f0d-bc70-edc21e0bab9c"
   },
   "outputs": [
    {
     "name": "stdout",
     "output_type": "stream",
     "text": [
      "0.520656779661017\n",
      "{'min_samples_split': 7}\n"
     ]
    }
   ],
   "source": [
    "parameters = {'min_samples_split':[1.0,3,5,7,9]}\n",
    "dectree_tuned = tree.DecisionTreeClassifier()\n",
    "dectree_gridsearch = model_selection.GridSearchCV(dectree_tuned, parameters, cv=5)\n",
    "dectree_gridsearch.fit(X_train, y_train)\n",
    "print(dectree_gridsearch.best_score_)\n",
    "print(dectree_gridsearch.best_params_)"
   ]
  },
  {
   "cell_type": "code",
   "execution_count": null,
   "metadata": {
    "colab": {
     "base_uri": "https://localhost:8080/",
     "height": 122
    },
    "colab_type": "code",
    "id": "iYja6sI2KMYc",
    "outputId": "c97f85cb-063a-4481-d3fc-9557e566fba2"
   },
   "outputs": [
    {
     "data": {
      "text/plain": [
       "DecisionTreeClassifier(class_weight=None, criterion='gini', max_depth=None,\n",
       "                       max_features=None, max_leaf_nodes=None,\n",
       "                       min_impurity_decrease=0.0, min_impurity_split=None,\n",
       "                       min_samples_leaf=1, min_samples_split=7,\n",
       "                       min_weight_fraction_leaf=0.0, presort=False,\n",
       "                       random_state=None, splitter='best')"
      ]
     },
     "execution_count": 37,
     "metadata": {
      "tags": []
     },
     "output_type": "execute_result"
    }
   ],
   "source": [
    "dectree_final = tree.DecisionTreeClassifier(min_samples_split=7)\n",
    "dectree_final.fit(X_train, y_train)"
   ]
  },
  {
   "cell_type": "code",
   "execution_count": null,
   "metadata": {
    "colab": {
     "base_uri": "https://localhost:8080/",
     "height": 34
    },
    "colab_type": "code",
    "id": "ivaUAxuaKMKV",
    "outputId": "01e30665-0a12-4d64-df73-e054d95695c9"
   },
   "outputs": [
    {
     "data": {
      "text/plain": [
       "0.4745762711864407"
      ]
     },
     "execution_count": 38,
     "metadata": {
      "tags": []
     },
     "output_type": "execute_result"
    }
   ],
   "source": [
    "predicted = dectree_final.predict(X_test)\n",
    "metrics.accuracy_score(y_test,predicted)"
   ]
  },
  {
   "cell_type": "code",
   "execution_count": null,
   "metadata": {
    "colab": {},
    "colab_type": "code",
    "id": "9EVV7MKwKL8a"
   },
   "outputs": [],
   "source": [
    "tree.export_graphviz(dectree_final,out_file='tree.dot')"
   ]
  },
  {
   "cell_type": "code",
   "execution_count": null,
   "metadata": {
    "colab": {
     "base_uri": "https://localhost:8080/",
     "height": 34
    },
    "colab_type": "code",
    "id": "-Gvr5Kr9KLu0",
    "outputId": "8362e114-1872-4f85-ad86-b1c52fb1c8a6"
   },
   "outputs": [
    {
     "data": {
      "text/plain": [
       "0"
      ]
     },
     "execution_count": 40,
     "metadata": {
      "tags": []
     },
     "output_type": "execute_result"
    }
   ],
   "source": [
    "from subprocess import check_call\n",
    "check_call(['dot','-Tpng','tree.dot','-o','tree.png'])"
   ]
  },
  {
   "cell_type": "code",
   "execution_count": null,
   "metadata": {
    "colab": {
     "base_uri": "https://localhost:8080/",
     "height": 34
    },
    "colab_type": "code",
    "id": "ueWZtiyyKLZ8",
    "outputId": "54e2d75c-e50c-4d7d-8c30-6d991c360b1e"
   },
   "outputs": [
    {
     "data": {
      "text/plain": [
       "0.48829746035519417"
      ]
     },
     "execution_count": 41,
     "metadata": {
      "tags": []
     },
     "output_type": "execute_result"
    }
   ],
   "source": [
    "from sklearn.neighbors import KNeighborsClassifier\n",
    "\n",
    "knn = KNeighborsClassifier(n_neighbors = 1)\n",
    "knn.fit(X_train,y_train)\n",
    "np.mean(model_selection.cross_val_score(knn,X_train,y_train,cv=skf))"
   ]
  },
  {
   "cell_type": "code",
   "execution_count": null,
   "metadata": {
    "colab": {
     "base_uri": "https://localhost:8080/",
     "height": 52
    },
    "colab_type": "code",
    "id": "jLrds9J6KLMI",
    "outputId": "e1ac7d40-f916-4867-c634-358e96f2e0fc"
   },
   "outputs": [
    {
     "name": "stdout",
     "output_type": "stream",
     "text": [
      "0.4883474576271186\n",
      "{'n_neighbors': 1}\n"
     ]
    }
   ],
   "source": [
    "parameters = {'n_neighbors':[1,3,5,7,9]}\n",
    "knn_tuned = KNeighborsClassifier()\n",
    "knn_gridsearch = model_selection.GridSearchCV(knn_tuned, parameters, cv=5)\n",
    "knn_gridsearch.fit(X_train, y_train)\n",
    "print(knn_gridsearch.best_score_)\n",
    "print(knn_gridsearch.best_params_)"
   ]
  },
  {
   "cell_type": "code",
   "execution_count": null,
   "metadata": {
    "colab": {
     "base_uri": "https://localhost:8080/",
     "height": 70
    },
    "colab_type": "code",
    "id": "cUqBGHVZKlgG",
    "outputId": "27384ef4-e766-4171-9907-ec90c113a6ed"
   },
   "outputs": [
    {
     "data": {
      "text/plain": [
       "KNeighborsClassifier(algorithm='auto', leaf_size=30, metric='minkowski',\n",
       "                     metric_params=None, n_jobs=None, n_neighbors=1, p=2,\n",
       "                     weights='uniform')"
      ]
     },
     "execution_count": 43,
     "metadata": {
      "tags": []
     },
     "output_type": "execute_result"
    }
   ],
   "source": [
    "knn_final = KNeighborsClassifier(n_neighbors = 1)\n",
    "knn_final.fit(X_train, y_train)"
   ]
  },
  {
   "cell_type": "code",
   "execution_count": null,
   "metadata": {
    "colab": {
     "base_uri": "https://localhost:8080/",
     "height": 34
    },
    "colab_type": "code",
    "id": "snIqdIHYKkXb",
    "outputId": "b02ab3de-4fe8-433d-e70b-21619fd461cf"
   },
   "outputs": [
    {
     "data": {
      "text/plain": [
       "0.5211864406779662"
      ]
     },
     "execution_count": 44,
     "metadata": {
      "tags": []
     },
     "output_type": "execute_result"
    }
   ],
   "source": [
    "predicted = knn_final.predict(X_test)\n",
    "metrics.accuracy_score(y_test,predicted)"
   ]
  },
  {
   "cell_type": "code",
   "execution_count": null,
   "metadata": {
    "colab": {
     "base_uri": "https://localhost:8080/",
     "height": 34
    },
    "colab_type": "code",
    "id": "We9o5T4XKkJS",
    "outputId": "f333fe4c-3d67-4164-eebf-80ccca5b44a4"
   },
   "outputs": [
    {
     "data": {
      "text/plain": [
       "0.47618046019461185"
      ]
     },
     "execution_count": 45,
     "metadata": {
      "tags": []
     },
     "output_type": "execute_result"
    }
   ],
   "source": [
    "from sklearn.ensemble import BaggingClassifier\n",
    "\n",
    "bagging = BaggingClassifier(KNeighborsClassifier(n_neighbors = 1),\n",
    "                            max_samples=0.5, max_features=0.5)\n",
    "bagging.fit(X_train,y_train)\n",
    "np.mean(model_selection.cross_val_score(bagging,X_train,y_train,cv=skf))"
   ]
  },
  {
   "cell_type": "code",
   "execution_count": null,
   "metadata": {
    "colab": {
     "base_uri": "https://localhost:8080/",
     "height": 34
    },
    "colab_type": "code",
    "id": "PtRPNZDAKjIX",
    "outputId": "46044d67-756f-4784-d2d6-0cf53df76101"
   },
   "outputs": [
    {
     "data": {
      "text/plain": [
       "0.17364213963065298"
      ]
     },
     "execution_count": 46,
     "metadata": {
      "tags": []
     },
     "output_type": "execute_result"
    }
   ],
   "source": [
    "classifier = svm.SVC(gamma='auto',kernel='rbf',C=1.0)\n",
    "classifier.fit(X_train, y_train)\n",
    "np.mean(model_selection.cross_val_score(classifier,X_train,y_train,cv=skf))"
   ]
  },
  {
   "cell_type": "code",
   "execution_count": null,
   "metadata": {
    "colab": {
     "base_uri": "https://localhost:8080/",
     "height": 52
    },
    "colab_type": "code",
    "id": "MT0K-FHjKKsE",
    "outputId": "829bf635-b821-4e4b-8f6e-91490dd72ba4"
   },
   "outputs": [
    {
     "name": "stdout",
     "output_type": "stream",
     "text": [
      "0.4973516949152542\n",
      "{'C': 100, 'gamma': 0.0001}\n"
     ]
    }
   ],
   "source": [
    "parameters = {'C':[1,10,100, 1000],'gamma':[0.001, 0.0001]}\n",
    "classifier_tuned = svm.SVC(kernel=\"rbf\")\n",
    "classifier_gridsearch = model_selection.GridSearchCV(classifier_tuned, parameters, cv=5)\n",
    "classifier_gridsearch.fit(X_train, y_train)\n",
    "print(classifier_gridsearch.best_score_)\n",
    "print(classifier_gridsearch.best_params_)"
   ]
  },
  {
   "cell_type": "code",
   "execution_count": null,
   "metadata": {
    "colab": {
     "base_uri": "https://localhost:8080/",
     "height": 87
    },
    "colab_type": "code",
    "id": "B195zaVlKu13",
    "outputId": "ba3aadd2-bba9-47c0-8b75-42f0fd479e10"
   },
   "outputs": [
    {
     "data": {
      "text/plain": [
       "SVC(C=10.0, cache_size=200, class_weight=None, coef0=0.0,\n",
       "    decision_function_shape='ovr', degree=3, gamma=0.001, kernel='rbf',\n",
       "    max_iter=-1, probability=False, random_state=None, shrinking=True,\n",
       "    tol=0.001, verbose=False)"
      ]
     },
     "execution_count": 48,
     "metadata": {
      "tags": []
     },
     "output_type": "execute_result"
    }
   ],
   "source": [
    "classifier_final = svm.SVC(gamma=0.001,kernel='rbf',C=10.0)\n",
    "classifier_final.fit(X_train, y_train)"
   ]
  },
  {
   "cell_type": "code",
   "execution_count": null,
   "metadata": {
    "colab": {
     "base_uri": "https://localhost:8080/",
     "height": 34
    },
    "colab_type": "code",
    "id": "WTBZ4VFkK1G2",
    "outputId": "c5684ac0-83f3-4bab-dc2b-3b36799001ae"
   },
   "outputs": [
    {
     "data": {
      "text/plain": [
       "0.559322033898305"
      ]
     },
     "execution_count": 49,
     "metadata": {
      "tags": []
     },
     "output_type": "execute_result"
    }
   ],
   "source": [
    "predicted = classifier_final.predict(X_test)\n",
    "metrics.accuracy_score(y_test,predicted)"
   ]
  },
  {
   "cell_type": "code",
   "execution_count": null,
   "metadata": {
    "colab": {
     "base_uri": "https://localhost:8080/",
     "height": 34
    },
    "colab_type": "code",
    "id": "PyK9ZeHOK04e",
    "outputId": "56b67d3f-f75e-4c92-d75b-5a148571e045"
   },
   "outputs": [
    {
     "data": {
      "text/plain": [
       "0.5925670975156185"
      ]
     },
     "execution_count": 50,
     "metadata": {
      "tags": []
     },
     "output_type": "execute_result"
    }
   ],
   "source": [
    "from sklearn.ensemble import RandomForestClassifier\n",
    "\n",
    "randomforest=RandomForestClassifier(n_estimators=100)\n",
    "randomforest.fit(X_train, y_train)\n",
    "np.mean(model_selection.cross_val_score(randomforest,X_train,y_train,cv=skf))"
   ]
  },
  {
   "cell_type": "code",
   "execution_count": null,
   "metadata": {
    "colab": {},
    "colab_type": "code",
    "id": "liZsiRY-K0qP"
   },
   "outputs": [],
   "source": [
    "parameters = {'n_estimators':[200, 400, 600, 800, 1000, 1200, 1400, 1600, 1800, 2000]}\n",
    "randomforest_tuned = RandomForestClassifier()\n",
    "randomforest_gridsearch = model_selection.GridSearchCV(randomforest_tuned, parameters, cv=5)\n",
    "randomforest_gridsearch.fit(X_train, y_train)\n",
    "print(randomforest_gridsearch.best_score_)\n",
    "print(randomforest_gridsearch.best_params_)"
   ]
  },
  {
   "cell_type": "code",
   "execution_count": null,
   "metadata": {
    "colab": {},
    "colab_type": "code",
    "id": "LEYKDm5yK0bt"
   },
   "outputs": [],
   "source": [
    "randomforest_final=RandomForestClassifier(n_estimators=600)\n",
    "randomforest_final.fit(X_train, y_train)"
   ]
  },
  {
   "cell_type": "code",
   "execution_count": null,
   "metadata": {
    "colab": {},
    "colab_type": "code",
    "id": "M13Ak_cXK0Lc"
   },
   "outputs": [],
   "source": [
    "predicted = randomforest_final.predict(X_test)\n",
    "metrics.accuracy_score(y_test,predicted)"
   ]
  },
  {
   "cell_type": "markdown",
   "metadata": {
    "colab_type": "text",
    "id": "IKEzriQ7EYnU"
   },
   "source": [
    "### **Logistic Regression:** Recursive Feature Elimination"
   ]
  },
  {
   "cell_type": "code",
   "execution_count": null,
   "metadata": {
    "colab": {},
    "colab_type": "code",
    "id": "j6rSvqo11EQ8"
   },
   "outputs": [],
   "source": [
    "from sklearn.feature_selection import RFE\n",
    "from sklearn.linear_model import LogisticRegression"
   ]
  },
  {
   "cell_type": "code",
   "execution_count": null,
   "metadata": {
    "colab": {},
    "colab_type": "code",
    "id": "bAB59-uAEa7Y"
   },
   "outputs": [],
   "source": [
    "rfe = RFE(LogisticRegression(solver='liblinear'), 3)\n",
    "fit = rfe.fit(X, y_reshaped)\n",
    "print(f'Number of features {fit.n_features_:d}\\nSelected features {fit.support_}\\nRanking of features {fit.ranking_}\\n\\nTop 3 features seem to be teaching, international rating, and citations')"
   ]
  },
  {
   "cell_type": "code",
   "execution_count": null,
   "metadata": {
    "colab": {},
    "colab_type": "code",
    "id": "EXKT6Ru1nLNl"
   },
   "outputs": [],
   "source": [
    "rfe = RFE(LogisticRegression(solver='liblinear'), 1)\n",
    "fit = rfe.fit(X, y_reshaped)\n",
    "print(f'Number of features {fit.n_features_:d}\\nSelected features {fit.support_}\\nRanking of features {fit.ranking_}\\n\\nTop feature: international rating')"
   ]
  },
  {
   "cell_type": "markdown",
   "metadata": {
    "colab_type": "text",
    "id": "xi0HFd94HI1u"
   },
   "source": [
    "### **Decision Tree**"
   ]
  },
  {
   "cell_type": "code",
   "execution_count": null,
   "metadata": {
    "colab": {},
    "colab_type": "code",
    "id": "jBpD8xaqHLak"
   },
   "outputs": [],
   "source": [
    "from sklearn.tree import DecisionTreeClassifier\n",
    "\n",
    "#random seed\n",
    "RSEED = 50\n",
    "\n",
    "c=timesData_v2.world_rank_bin_num.values\n",
    "f=timesData_v2[['teaching','international','research','citations','income','num_students','student_staff_ratio','international_students','female_percentage']].values\n",
    "\n",
    "tree = DecisionTreeClassifier(random_state=RSEED)\n",
    "tree.fit(f,c)"
   ]
  },
  {
   "cell_type": "code",
   "execution_count": null,
   "metadata": {
    "colab": {},
    "colab_type": "code",
    "id": "E56d0a9UHg5a"
   },
   "outputs": [],
   "source": [
    "print(f'Decision tree has {tree.tree_.node_count} nodes with maximum depth {tree.tree_.max_depth}.')"
   ]
  },
  {
   "cell_type": "code",
   "execution_count": null,
   "metadata": {
    "colab": {},
    "colab_type": "code",
    "id": "k0RS_Y2EHhns"
   },
   "outputs": [],
   "source": [
    "print(f'Model Accuracy: {tree.score(f, c)}')"
   ]
  },
  {
   "cell_type": "code",
   "execution_count": null,
   "metadata": {
    "colab": {},
    "colab_type": "code",
    "id": "6HV-w5CzVm1q"
   },
   "outputs": [],
   "source": [
    "from sklearn.model_selection import train_test_split\n",
    "# 30% examples in test data\n",
    "train, test, train_labels, test_labels = train_test_split(f, c, \n",
    "                                                          stratify = c,\n",
    "                                                          test_size = 0.3, \n",
    "                                                          random_state = RSEED)"
   ]
  },
  {
   "cell_type": "code",
   "execution_count": null,
   "metadata": {
    "colab": {},
    "colab_type": "code",
    "id": "3c08CW80Vpi_"
   },
   "outputs": [],
   "source": [
    "# Train tree\n",
    "tree.fit(train, train_labels)\n",
    "print(f'Decision tree has {tree.tree_.node_count} nodes with maximum depth {tree.tree_.max_depth}.')"
   ]
  },
  {
   "cell_type": "code",
   "execution_count": null,
   "metadata": {
    "colab": {},
    "colab_type": "code",
    "id": "FlqS7KBVVsxR"
   },
   "outputs": [],
   "source": [
    "print(f'Model Accuracy: {tree.score(f, c)}')"
   ]
  },
  {
   "cell_type": "code",
   "execution_count": null,
   "metadata": {
    "colab": {},
    "colab_type": "code",
    "id": "crUodOZkji0A"
   },
   "outputs": [],
   "source": [
    "# Limit maximum depth and train\n",
    "short_tree = DecisionTreeClassifier(max_depth=9, random_state=RSEED)\n",
    "short_tree.fit(train, train_labels)\n",
    "\n",
    "print(f'Model Accuracy: {short_tree.score(test, test_labels)}')"
   ]
  },
  {
   "cell_type": "markdown",
   "metadata": {
    "colab_type": "text",
    "id": "a3C5d86AMHwv"
   },
   "source": [
    "### **Random Forest:** Recursive Feature Elimination"
   ]
  },
  {
   "cell_type": "code",
   "execution_count": null,
   "metadata": {
    "colab": {},
    "colab_type": "code",
    "id": "L0ARVNcOM8Pg"
   },
   "outputs": [],
   "source": [
    "from sklearn.ensemble import RandomForestClassifier\n",
    "\n",
    "# Create the model with 100 trees\n",
    "model = RandomForestClassifier(n_estimators=1000, \n",
    "                               random_state=RSEED, \n",
    "                               max_depth=19,)\n",
    "# Fit on training data\n",
    "model.fit(train, train_labels)"
   ]
  },
  {
   "cell_type": "code",
   "execution_count": null,
   "metadata": {
    "colab": {},
    "colab_type": "code",
    "id": "f7BCwvI_WOZi"
   },
   "outputs": [],
   "source": [
    "n_nodes = []\n",
    "max_depths = []\n",
    "\n",
    "for ind_tree in model.estimators_:\n",
    "    n_nodes.append(ind_tree.tree_.node_count)\n",
    "    max_depths.append(ind_tree.tree_.max_depth)\n",
    "    \n",
    "print(f'Average number of nodes {int(np.mean(n_nodes))}')\n",
    "print(f'Average maximum depth {int(np.mean(max_depths))}')"
   ]
  },
  {
   "cell_type": "code",
   "execution_count": null,
   "metadata": {
    "colab": {},
    "colab_type": "code",
    "id": "I1GqZX_UWRob"
   },
   "outputs": [],
   "source": [
    "print(f'Model Accuracy: {model.score(test, test_labels)}')"
   ]
  },
  {
   "cell_type": "code",
   "execution_count": null,
   "metadata": {
    "colab": {},
    "colab_type": "code",
    "id": "bpDq3aS_gm8b"
   },
   "outputs": [],
   "source": [
    "from sklearn.tree import export_graphviz\n",
    "from subprocess import call\n",
    "from IPython.display import Image\n",
    "\n",
    "# Export as dot\n",
    "export_graphviz(tree, 'tree.dot', rounded = True, filled = True)\n",
    "\n",
    "# Convert to png\n",
    "call(['dot', '-Tpng', 'tree.dot', '-o', 'tree.png', '-Gdpi=400']);\n",
    "\n",
    "Image('tree.png')"
   ]
  },
  {
   "cell_type": "markdown",
   "metadata": {
    "colab_type": "text",
    "id": "vyCo286BJdMH"
   },
   "source": [
    "### Univariate selection using **Chi-squared**"
   ]
  },
  {
   "cell_type": "code",
   "execution_count": null,
   "metadata": {
    "colab": {},
    "colab_type": "code",
    "id": "O2wDnlxvJdow"
   },
   "outputs": [],
   "source": [
    "from sklearn.feature_selection import SelectKBest\n",
    "from sklearn.feature_selection import chi2 "
   ]
  },
  {
   "cell_type": "code",
   "execution_count": null,
   "metadata": {
    "colab": {},
    "colab_type": "code",
    "id": "OkhA8U3HJnB6"
   },
   "outputs": [],
   "source": [
    "X[0]"
   ]
  },
  {
   "cell_type": "markdown",
   "metadata": {
    "colab_type": "text",
    "id": "-UPTioUfJwyA"
   },
   "source": [
    "Feature selection (we select the 3 best)."
   ]
  },
  {
   "cell_type": "code",
   "execution_count": null,
   "metadata": {
    "colab": {},
    "colab_type": "code",
    "id": "EIwNLWZhJ0Hg"
   },
   "outputs": [],
   "source": [
    "test = SelectKBest(score_func=chi2, k=3)\n",
    "fit = test.fit(X,y_reshaped)\n",
    "print(\"Scores\\n\",fit.scores_,\"\\nThe 3 attributes with the highest scores are: teaching, research and num_students \\n\\nteaching: university score for teaching\\nreserach: university score for research (volume, income and reputation)\\nnum_students: number of students at the university\")\n",
    "\n",
    "features = fit.transform(X)\n",
    "features[0:5,:]"
   ]
  },
  {
   "cell_type": "markdown",
   "metadata": {
    "colab_type": "text",
    "id": "faJKjfgXEdlM"
   },
   "source": [
    "### Ranking feature importance using **Extra Tree Classifier**"
   ]
  },
  {
   "cell_type": "code",
   "execution_count": null,
   "metadata": {
    "colab": {},
    "colab_type": "code",
    "id": "cGyrhi_JEfoq"
   },
   "outputs": [],
   "source": [
    "from sklearn.ensemble import ExtraTreesClassifier\n",
    "\n",
    "model = ExtraTreesClassifier(n_estimators=100)\n",
    "model.fit(X,y_reshaped)\n",
    "\n",
    "print(model.feature_importances_,\"\\n\\nTop features seem to be citations, research and teaching\")"
   ]
  },
  {
   "cell_type": "markdown",
   "metadata": {
    "colab_type": "text",
    "id": "2ICOv5ceE4xd"
   },
   "source": [
    "## Model evaluation "
   ]
  },
  {
   "cell_type": "markdown",
   "metadata": {
    "colab_type": "text",
    "id": "s8juu8CmE7FO"
   },
   "source": [
    "### train-test-split and k-fold-10 validation"
   ]
  },
  {
   "cell_type": "code",
   "execution_count": null,
   "metadata": {
    "colab": {},
    "colab_type": "code",
    "id": "apsZVTXPE_dM"
   },
   "outputs": [],
   "source": [
    "from sklearn.model_selection import train_test_split\n",
    "from sklearn.datasets import make_classification\n",
    "from sklearn.model_selection import KFold\n",
    "from sklearn.model_selection import cross_val_score"
   ]
  },
  {
   "cell_type": "code",
   "execution_count": null,
   "metadata": {
    "colab": {},
    "colab_type": "code",
    "id": "iEQgKBfWO8Ye"
   },
   "outputs": [],
   "source": [
    "train_test_split_accuracy = []\n",
    "k_fold_accuracy = []"
   ]
  },
  {
   "cell_type": "code",
   "execution_count": null,
   "metadata": {
    "colab": {},
    "colab_type": "code",
    "id": "e_iGaE3WPID8"
   },
   "outputs": [],
   "source": [
    "binarizer=Binarizer().fit(y_)\n",
    "y_binary=binarizer.transform(y_)\n",
    "y_reshaped = np.ravel(y_binary)"
   ]
  },
  {
   "cell_type": "markdown",
   "metadata": {
    "colab_type": "text",
    "id": "qcRf11tqPHCJ"
   },
   "source": [
    "We need to make it reproducible, so we use a seed for the pseudo-random."
   ]
  },
  {
   "cell_type": "code",
   "execution_count": null,
   "metadata": {
    "colab": {},
    "colab_type": "code",
    "id": "m7TYo0j_PG19"
   },
   "outputs": [],
   "source": [
    "print('train-test-split')\n",
    "test_size = 0.3\n",
    "seed = 7"
   ]
  },
  {
   "cell_type": "code",
   "execution_count": null,
   "metadata": {
    "colab": {},
    "colab_type": "code",
    "id": "gmp-D_AWPYBG"
   },
   "outputs": [],
   "source": [
    "X_train, X_test, y_train, y_test = train_test_split(X, y_reshaped, test_size=test_size, random_state=seed)"
   ]
  },
  {
   "cell_type": "markdown",
   "metadata": {
    "colab_type": "text",
    "id": "HJP3S8wi5cBE"
   },
   "source": [
    "**Ridge Regression**"
   ]
  },
  {
   "cell_type": "code",
   "execution_count": null,
   "metadata": {
    "colab": {},
    "colab_type": "code",
    "id": "tZqDIEu55bTm"
   },
   "outputs": [],
   "source": [
    "from sklearn.linear_model import RidgeClassifier\n",
    "\n",
    "ridge_regression = RidgeClassifier().fit(X_train,y_train)\n",
    "ridge_regression"
   ]
  },
  {
   "cell_type": "code",
   "execution_count": null,
   "metadata": {
    "colab": {},
    "colab_type": "code",
    "id": "yuAYe4r67L1y"
   },
   "outputs": [],
   "source": [
    "result = ridge_regression.score(X_test,y_test)\n",
    "train_test_split_accuracy.append(result)\n",
    "print(f'Accuracy {result*100:5.3f} %\\nk-fold-10 validation')"
   ]
  },
  {
   "cell_type": "markdown",
   "metadata": {
    "colab_type": "text",
    "id": "ZApK--xAPn-M"
   },
   "source": [
    "**Logistic Regression**"
   ]
  },
  {
   "cell_type": "code",
   "execution_count": null,
   "metadata": {
    "colab": {},
    "colab_type": "code",
    "id": "jzL7hmTLPse2"
   },
   "outputs": [],
   "source": [
    "logistic_regression = LogisticRegression(solver='liblinear')\n",
    "logistic_regression.fit(X_train,y_train)"
   ]
  },
  {
   "cell_type": "code",
   "execution_count": null,
   "metadata": {
    "colab": {},
    "colab_type": "code",
    "id": "VrQUoLqVPxha"
   },
   "outputs": [],
   "source": [
    "result = logistic_regression.score(X_test,y_test)\n",
    "train_test_split_accuracy.append(result)\n",
    "print(f'Accuracy {result*100:5.3f} %\\nk-fold-10 validation')"
   ]
  },
  {
   "cell_type": "markdown",
   "metadata": {
    "colab_type": "text",
    "id": "F00U6_MI3v6C"
   },
   "source": [
    "**Random Forest**"
   ]
  },
  {
   "cell_type": "code",
   "execution_count": null,
   "metadata": {
    "colab": {},
    "colab_type": "code",
    "id": "tlKI4ovn36EY"
   },
   "outputs": [],
   "source": [
    "random_forest = RandomForestClassifier(n_estimators=100,max_depth=2,random_state=0)\n",
    "random_forest.fit(X_train,y_train)  "
   ]
  },
  {
   "cell_type": "code",
   "execution_count": null,
   "metadata": {
    "colab": {},
    "colab_type": "code",
    "id": "DFOWHS9a4fuZ"
   },
   "outputs": [],
   "source": [
    "result = random_forest.score(X_test,y_test)\n",
    "train_test_split_accuracy.append(result)\n",
    "print(f'Accuracy {result*100:5.3f} %\\nk-fold-10 validation')"
   ]
  },
  {
   "cell_type": "markdown",
   "metadata": {
    "colab_type": "text",
    "id": "O01UYUsYVYwl"
   },
   "source": [
    "### KFold"
   ]
  },
  {
   "cell_type": "code",
   "execution_count": null,
   "metadata": {
    "colab": {},
    "colab_type": "code",
    "id": "c_vQmCgPVaZV"
   },
   "outputs": [],
   "source": [
    "splits = 10\n",
    "kfold = KFold(n_splits=splits, random_state=seed)"
   ]
  },
  {
   "cell_type": "markdown",
   "metadata": {
    "colab_type": "text",
    "id": "kj_ZCCOvVfmH"
   },
   "source": [
    "Obtain the performance measure - accuracy"
   ]
  },
  {
   "cell_type": "code",
   "execution_count": null,
   "metadata": {
    "colab": {},
    "colab_type": "code",
    "id": "AJVfdnWgPAob"
   },
   "outputs": [],
   "source": [
    "train_test_accuracy = [ '%.3f' % elem for elem in train_test_split_accuracy]\n",
    "print(train_test_accuracy)"
   ]
  },
  {
   "cell_type": "code",
   "execution_count": null,
   "metadata": {
    "colab": {},
    "colab_type": "code",
    "id": "YHDW9Fu2VW2u"
   },
   "outputs": [],
   "source": [
    "results = cross_val_score(ridge_regression, X, y_reshaped, cv=kfold)\n",
    "k_fold_accuracy.append(results.mean())\n",
    "\n",
    "print(f'Ridge Regression, k-fold {splits:d} - Accuracy {results.mean()*100:5.3f}% ({results.std()*100:5.3f}%)')"
   ]
  },
  {
   "cell_type": "code",
   "execution_count": null,
   "metadata": {
    "colab": {},
    "colab_type": "code",
    "id": "jw6P_FHEPQRK"
   },
   "outputs": [],
   "source": [
    "results = cross_val_score(logistic_regression, X, y_reshaped, cv=kfold)\n",
    "k_fold_accuracy.append(results.mean())\n",
    "\n",
    "print(f'Logistic Regression, k-fold {splits:d} - Accuracy {results.mean()*100:5.3f}% ({results.std()*100:5.3f}%)')"
   ]
  },
  {
   "cell_type": "code",
   "execution_count": null,
   "metadata": {
    "colab": {},
    "colab_type": "code",
    "id": "nM_pmM7tP9Wb"
   },
   "outputs": [],
   "source": [
    "results = cross_val_score(random_forest, X, y_reshaped, cv=kfold)\n",
    "k_fold_accuracy.append(results.mean())\n",
    "\n",
    "print(f'Random Forests, k-fold {splits:d} - Accuracy {results.mean()*100:5.3f}% ({results.std()*100:5.3f}%)')"
   ]
  },
  {
   "cell_type": "code",
   "execution_count": null,
   "metadata": {
    "colab": {},
    "colab_type": "code",
    "id": "U2XKJl3VFBru"
   },
   "outputs": [],
   "source": [
    "kfold_accuracy = [ '%.3f' % elem for elem in k_fold_accuracy]\n",
    "kfold_accuracy"
   ]
  },
  {
   "cell_type": "markdown",
   "metadata": {
    "colab_type": "text",
    "id": "28GkhvDeRacB"
   },
   "source": [
    "Accuracy decreases as the number of universities to be classified increases."
   ]
  },
  {
   "cell_type": "markdown",
   "metadata": {
    "colab_type": "text",
    "id": "5WPzAo4UFKxj"
   },
   "source": [
    "### Metrics evaluation using StratifiedKFold"
   ]
  },
  {
   "cell_type": "code",
   "execution_count": null,
   "metadata": {
    "colab": {},
    "colab_type": "code",
    "id": "dJs3RFeGFbCU"
   },
   "outputs": [],
   "source": [
    "from sklearn.model_selection import StratifiedKFold\n",
    "from sklearn.metrics import confusion_matrix\n",
    "from sklearn.metrics import classification_report"
   ]
  },
  {
   "cell_type": "code",
   "execution_count": null,
   "metadata": {
    "colab": {},
    "colab_type": "code",
    "id": "G46Q6vpARmZH"
   },
   "outputs": [],
   "source": [
    "scoring = ['accuracy', 'neg_log_loss', 'roc_auc']\n",
    "k_fold_accuracy = []"
   ]
  },
  {
   "cell_type": "code",
   "execution_count": null,
   "metadata": {
    "colab": {},
    "colab_type": "code",
    "id": "ghOhcGG1Rv3e"
   },
   "outputs": [],
   "source": [
    "binarizer=Binarizer().fit(y_)\n",
    "y_binary=binarizer.transform(y_)\n",
    "y_reshaped = np.ravel(y_binary)"
   ]
  },
  {
   "cell_type": "markdown",
   "metadata": {
    "colab_type": "text",
    "id": "AvewlMkTR4yK"
   },
   "source": [
    "- StratifiedKFold.\n",
    "- Obtain the performance measure - accuracy."
   ]
  },
  {
   "cell_type": "code",
   "execution_count": null,
   "metadata": {
    "colab": {},
    "colab_type": "code",
    "id": "pbgcM2_lfMfl"
   },
   "outputs": [],
   "source": [
    "print(\"Ridge Regression\\n\")\n",
    "for score in scoring:\n",
    "    print(score, ', top')\n",
    "    splits = 10\n",
    "    skfold = StratifiedKFold(n_splits=splits, random_state=7)\n",
    "    results = cross_val_score(ridge_regression, X, y_reshaped, cv=skfold)\n",
    "    print(score, f': {results.mean():.3f}')\n",
    "\n",
    "Y_predicted = ridge_regression.predict(X_test)\n",
    "c_matrix=confusion_matrix(y_test, Y_predicted)\n",
    "print('\\nConfusion Matrix\\n\\n',c_matrix,f'\\n\\nAccuracy {ridge_regression.score(X_test, y_test)*100:.3f}\\nAccuracy check with conf. matrix {(c_matrix[0,0]+c_matrix[1,1])/c_matrix.sum()*100:.3f}')    "
   ]
  },
  {
   "cell_type": "code",
   "execution_count": null,
   "metadata": {
    "colab": {},
    "colab_type": "code",
    "id": "8utZX_LdSJc_"
   },
   "outputs": [],
   "source": [
    "print(\"Logistic Regression\\n\")\n",
    "for score in scoring:\n",
    "    print(score, ', top')\n",
    "    splits = 10\n",
    "    skfold = StratifiedKFold(n_splits=splits, random_state=7)\n",
    "    results = cross_val_score(logistic_regression, X, y_reshaped, scoring=score, cv=skfold)\n",
    "    print(score, f': {results.mean():.3f}')\n",
    "\n",
    "Y_predicted = logistic_regression.predict(X_test)\n",
    "c_matrix=confusion_matrix(y_test, Y_predicted)\n",
    "print('\\nConfusion Matrix\\n\\n',c_matrix,f'\\n\\nAccuracy {logistic_regression.score(X_test, y_test)*100:.3f}\\nAccuracy check with conf. matrix {(c_matrix[0,0]+c_matrix[1,1])/c_matrix.sum()*100:.3f}')    "
   ]
  },
  {
   "cell_type": "code",
   "execution_count": null,
   "metadata": {
    "colab": {},
    "colab_type": "code",
    "id": "bojQkt7NFcB0"
   },
   "outputs": [],
   "source": [
    "print(\"Random Forest\\n\")\n",
    "for score in scoring:\n",
    "    print(score, ', top')\n",
    "    splits = 10\n",
    "    skfold = StratifiedKFold(n_splits=splits, random_state=7)\n",
    "    results = cross_val_score(random_forest, X, y_reshaped, scoring=score, cv=skfold)\n",
    "    print(score, f': {results.mean():.3f}')\n",
    "\n",
    "Y_predicted = random_forest.predict(X_test)\n",
    "c_matrix=confusion_matrix(y_test, Y_predicted)\n",
    "print('\\nConfusion Matrix\\n\\n',c_matrix,f'\\n\\nAccuracy {random_forest.score(X_test, y_test)*100:.3f}\\nAccuracy check with conf. matrix {(c_matrix[0,0]+c_matrix[1,1])/c_matrix.sum()*100:.3f}')    "
   ]
  },
  {
   "cell_type": "code",
   "execution_count": null,
   "metadata": {
    "colab": {},
    "colab_type": "code",
    "id": "GDol5GqtHZ3D"
   },
   "outputs": [],
   "source": [
    "x2016 = preProcessedTimesData.country[preProcessedTimesData.year == 2016]\n",
    "plt.subplots(figsize=(8,8))\n",
    "wordcloud = WordCloud(\n",
    "                          background_color='white',\n",
    "                          width=512,\n",
    "                          height=384\n",
    "                         ).generate(\" \".join(x2016))\n",
    "plt.imshow(wordcloud)\n",
    "plt.axis('off')\n",
    "plt.savefig('graph.png')\n",
    "\n",
    "plt.show()"
   ]
  },
  {
   "cell_type": "code",
   "execution_count": null,
   "metadata": {
    "colab": {},
    "colab_type": "code",
    "id": "JjpXeUg3g8gW"
   },
   "outputs": [],
   "source": [
    "configure_plotly_browser_state()\n",
    "\n",
    "dataframe = preProcessedTimesData[preProcessedTimesData.year == 2015]\n",
    "data2015 = dataframe.loc[:,[\"research\",\"international\", \"total_score\"]]\n",
    "data2015[\"index\"] = np.arange(1,len(data2015)+1)\n",
    "\n",
    "trace1 = go.Scatter3d(\n",
    "    x=dataframe.world_rank,\n",
    "    y=dataframe.research,\n",
    "    z=dataframe.citations,\n",
    "    mode='markers',\n",
    "    marker=dict(size=10,color='rgb(255,0,0)',)\n",
    ")\n",
    "\n",
    "data = [trace1]\n",
    "layout = go.Layout(\n",
    "    scene = dict(xaxis_title='World Rank',yaxis_title='Research',zaxis_title='Citations'),\n",
    "    margin = dict(l=0,r=0,b=0,t=0)\n",
    ")\n",
    "fig = go.Figure(data=data, layout=layout)\n",
    "iplot(fig)"
   ]
  },
  {
   "cell_type": "code",
   "execution_count": null,
   "metadata": {
    "colab": {},
    "colab_type": "code",
    "id": "QaWBQ_vgQjuY"
   },
   "outputs": [],
   "source": [
    "configure_plotly_browser_state()\n",
    "import plotly.figure_factory as ff\n",
    "\n",
    "fig = ff.create_scatterplotmatrix(data2015, diag='box', index='index',colormap='Portland',\n",
    "                                  colormap_type='cat',\n",
    "                                  height=700, width=700)\n",
    "iplot(fig)"
   ]
  },
  {
   "cell_type": "code",
   "execution_count": null,
   "metadata": {
    "colab": {},
    "colab_type": "code",
    "id": "wo1qzfx4Y5qd"
   },
   "outputs": [],
   "source": [
    "configure_plotly_browser_state()\n",
    "\n",
    "trace1 = go.Scatter(\n",
    "    x=dataframe.world_rank,\n",
    "    y=dataframe.research,\n",
    "    name = \"research\"\n",
    ")\n",
    "trace2 = go.Scatter(\n",
    "    x=dataframe.world_rank,\n",
    "    y=dataframe.citations,\n",
    "    xaxis='x2',\n",
    "    yaxis='y2',\n",
    "    name = \"citations\"\n",
    ")\n",
    "trace3 = go.Scatter(\n",
    "    x=dataframe.world_rank,\n",
    "    y=dataframe.income,\n",
    "    xaxis='x3',\n",
    "    yaxis='y3',\n",
    "    name = \"income\"\n",
    ")\n",
    "trace4 = go.Scatter(\n",
    "    x=dataframe.world_rank,\n",
    "    y=dataframe.total_score,\n",
    "    xaxis='x4',\n",
    "    yaxis='y4',\n",
    "    name = \"total_score\"\n",
    ")\n",
    "data = [trace1, trace2, trace3, trace4]\n",
    "layout = go.Layout(\n",
    "    xaxis=dict(\n",
    "        domain=[0, 0.45]\n",
    "    ),\n",
    "    yaxis=dict(\n",
    "        domain=[0, 0.45]\n",
    "    ),\n",
    "    xaxis2=dict(\n",
    "        domain=[0.55, 1]\n",
    "    ),\n",
    "    xaxis3=dict(\n",
    "        domain=[0, 0.45],\n",
    "        anchor='y3'\n",
    "    ),\n",
    "    xaxis4=dict(\n",
    "        domain=[0.55, 1],\n",
    "        anchor='y4'\n",
    "    ),\n",
    "    yaxis2=dict(\n",
    "        domain=[0, 0.45],\n",
    "        anchor='x2'\n",
    "    ),\n",
    "    yaxis3=dict(\n",
    "        domain=[0.55, 1]\n",
    "    ),\n",
    "    yaxis4=dict(\n",
    "        domain=[0.55, 1],\n",
    "        anchor='x4'\n",
    "    ),\n",
    "    title = 'Research, citation, income and total score VS World Rank of Universities'\n",
    ")\n",
    "fig = go.Figure(data=data, layout=layout)\n",
    "iplot(fig)"
   ]
  },
  {
   "cell_type": "code",
   "execution_count": null,
   "metadata": {
    "colab": {},
    "colab_type": "code",
    "id": "bRyH6seORCle"
   },
   "outputs": [],
   "source": [
    "configure_plotly_browser_state()\n",
    "\n",
    "trace1 = go.Scatter(\n",
    "    x=dataframe.world_rank,\n",
    "    y=dataframe.teaching,\n",
    "    name = \"teaching\",\n",
    "    marker = dict(color = 'rgba(16, 112, 2, 0.8)'),\n",
    ")\n",
    "\n",
    "trace2 = go.Scatter(\n",
    "    x=dataframe.world_rank,\n",
    "    y=dataframe.income,\n",
    "    xaxis='x2',\n",
    "    yaxis='y2',\n",
    "    name = \"income\",\n",
    "    marker = dict(color = 'rgba(160, 112, 20, 0.8)'),\n",
    ")\n",
    "data = [trace1, trace2]\n",
    "layout = go.Layout(\n",
    "    xaxis2=dict(\n",
    "        domain=[0.6, 0.95],\n",
    "        anchor='y2',        \n",
    "    ),\n",
    "    yaxis2=dict(\n",
    "        domain=[0.6, 0.95],\n",
    "        anchor='x2',\n",
    "    ),\n",
    "    title = 'Income and Teaching vs World Rank of Universities'\n",
    "\n",
    ")\n",
    "\n",
    "fig = go.Figure(data=data, layout=layout)\n",
    "iplot(fig)"
   ]
  },
  {
   "cell_type": "code",
   "execution_count": null,
   "metadata": {
    "colab": {},
    "colab_type": "code",
    "id": "SSDvawvdR79c"
   },
   "outputs": [],
   "source": [
    "configure_plotly_browser_state()\n",
    "\n",
    "x2015 = preProcessedTimesData[preProcessedTimesData.year == 2015]\n",
    "\n",
    "trace0 = go.Box(\n",
    "    y=x2015.total_score,\n",
    "    name = 'total score of universities in 2015',\n",
    "    marker = dict(\n",
    "        color = 'rgb(12, 12, 140)',\n",
    "    )\n",
    ")\n",
    "trace1 = go.Box(\n",
    "    y=x2015.research,\n",
    "    name = 'research of universities in 2015',\n",
    "    marker = dict(\n",
    "        color = 'rgb(12, 128, 128)',\n",
    "    )\n",
    ")\n",
    "data = [trace0, trace1]\n",
    "iplot(data)"
   ]
  },
  {
   "cell_type": "code",
   "execution_count": null,
   "metadata": {
    "colab": {},
    "colab_type": "code",
    "id": "kfee7jZx8oA6"
   },
   "outputs": [],
   "source": [
    "configure_plotly_browser_state()\n",
    "df = preProcessedTimesData.iloc[:10,:]\n",
    "import plotly.graph_objs as go\n",
    "\n",
    "trace1 = go.Scatter(\n",
    "                    x = df.world_rank,\n",
    "                    y = df.citations,\n",
    "                    mode = \"lines\",\n",
    "                    name = \"citations\",\n",
    "                    marker = dict(color = 'rgba(16, 112, 2, 0.8)'),\n",
    "                    text= df.university_name)\n",
    "\n",
    "trace2 = go.Scatter(\n",
    "                    x = df.world_rank,\n",
    "                    y = df.teaching,\n",
    "                    mode = \"lines+markers\",\n",
    "                    name = \"teaching\",\n",
    "                    marker = dict(color = 'rgba(80, 26, 80, 0.8)'),\n",
    "                    text= df.university_name)\n",
    "data = [trace1, trace2]\n",
    "layout = dict(title = 'Citation and Teaching vs World Rank of Top 100 Universities',\n",
    "              xaxis= dict(title= 'World Rank',ticklen= 5,zeroline= False)\n",
    "             )\n",
    "fig = dict(data = data, layout = layout)\n",
    "iplot(fig)"
   ]
  },
  {
   "cell_type": "code",
   "execution_count": null,
   "metadata": {
    "colab": {},
    "colab_type": "code",
    "id": "IWD_pSDIPeQv"
   },
   "outputs": [],
   "source": [
    "configure_plotly_browser_state()\n",
    "\n",
    "df2016 = preProcessedTimesData[preProcessedTimesData.year == 2016].iloc[:7,:]\n",
    "pie1 = df2016.num_students\n",
    "pie1_list = [float(each.replace(',', '.')) for each in df2016.num_students]  # str(2,4) => str(2.4) = > float(2.4) = 2.4\n",
    "labels = df2016.university_name\n",
    "\n",
    "fig = {\n",
    "  \"data\": [\n",
    "    {\n",
    "      \"values\": pie1_list,\n",
    "      \"labels\": labels,\n",
    "      \"domain\": {\"x\": [0, .5]},\n",
    "      \"name\": \"Number Of Students Rates\",\n",
    "      \"hoverinfo\":\"label+percent+name\",\n",
    "      \"hole\": .3,\n",
    "      \"type\": \"pie\"\n",
    "    },],\n",
    "  \"layout\": {\n",
    "        \"title\":\"Universities Number of Students rates\",\n",
    "        \"annotations\": [\n",
    "            { \"font\": { \"size\": 20},\n",
    "              \"showarrow\": False,\n",
    "              \"text\": \"Number of Students\",\n",
    "                \"x\": 0.20,\n",
    "                \"y\": 1\n",
    "            },\n",
    "        ]\n",
    "    }\n",
    "}\n",
    "iplot(fig)"
   ]
  },
  {
   "cell_type": "code",
   "execution_count": null,
   "metadata": {
    "_uuid": "0f92b55880ed0068717353dcb811f56cb74f0eae",
    "colab": {},
    "colab_type": "code",
    "id": "95jVcG9f3iGW"
   },
   "outputs": [],
   "source": [
    "percentage_people_below_poverty_level.head()"
   ]
  },
  {
   "cell_type": "code",
   "execution_count": null,
   "metadata": {
    "_uuid": "a2fc6ebdd321a62e967764018761560a8a61775c",
    "colab": {},
    "colab_type": "code",
    "id": "OZcHrkGQ3iGZ"
   },
   "outputs": [],
   "source": [
    "percentage_people_below_poverty_level.poverty_rate.replace(['-'],0.0,inplace = True)\n",
    "percentage_people_below_poverty_level.poverty_rate = percentage_people_below_poverty_level.poverty_rate.astype(float)\n",
    "area_list = list(percentage_people_below_poverty_level['Geographic Area'].unique())\n",
    "area_poverty_ratio = []\n",
    "for i in area_list:\n",
    "    x = percentage_people_below_poverty_level[percentage_people_below_poverty_level['Geographic Area']==i]\n",
    "    area_poverty_rate = sum(x.poverty_rate)/len(x)\n",
    "    area_poverty_ratio.append(area_poverty_rate)\n",
    "data = pd.DataFrame({'area_list': area_list,'area_poverty_ratio':area_poverty_ratio})\n",
    "new_index = (data['area_poverty_ratio'].sort_values(ascending=False)).index.values\n",
    "sorted_data = data.reindex(new_index)"
   ]
  },
  {
   "cell_type": "code",
   "execution_count": null,
   "metadata": {
    "_uuid": "bb88bf3ad42901f465036cf873804938c468b3ac",
    "colab": {},
    "colab_type": "code",
    "id": "NeYsvK6c3iGs"
   },
   "outputs": [],
   "source": [
    "percent_over_25_completed_highSchool.percent_completed_hs.replace(['-'],0.0,inplace = True)\n",
    "percent_over_25_completed_highSchool.percent_completed_hs = percent_over_25_completed_highSchool.percent_completed_hs.astype(float)\n",
    "area_list = list(percent_over_25_completed_highSchool['Geographic Area'].unique())\n",
    "area_highschool = []\n",
    "for i in area_list:\n",
    "    x = percent_over_25_completed_highSchool[percent_over_25_completed_highSchool['Geographic Area']==i]\n",
    "    area_highschool_rate = sum(x.percent_completed_hs)/len(x)\n",
    "    area_highschool.append(area_highschool_rate)\n",
    "\n",
    "data = pd.DataFrame({'area_list': area_list,'area_highschool_ratio':area_highschool})\n",
    "new_index = (data['area_highschool_ratio'].sort_values(ascending=True)).index.values\n",
    "sorted_data2 = data.reindex(new_index)\n",
    "\n",
    "sorted_data['area_poverty_ratio'] = sorted_data['area_poverty_ratio']/max( sorted_data['area_poverty_ratio'])\n",
    "sorted_data2['area_highschool_ratio'] = sorted_data2['area_highschool_ratio']/max( sorted_data2['area_highschool_ratio'])\n",
    "data = pd.concat([sorted_data,sorted_data2['area_highschool_ratio']],axis=1)\n",
    "data.sort_values('area_poverty_ratio',inplace=True)\n",
    "\n",
    "f,ax1 = plt.subplots(figsize =(10,5))\n",
    "sns.pointplot(x='area_list',y='area_poverty_ratio',data=data,color='lime',alpha=0.8)\n",
    "sns.pointplot(x='area_list',y='area_highschool_ratio',data=data,color='red',alpha=0.8)\n",
    "plt.text(40,0.6,'high school graduate ratio',color='red',fontsize = 17,style = 'italic')\n",
    "plt.text(40,0.55,'poverty ratio',color='lime',fontsize = 18,style = 'italic')\n",
    "plt.xlabel('States',fontsize = 15,color='blue')\n",
    "plt.ylabel('Values',fontsize = 15,color='blue')\n",
    "plt.title('High School Graduate  VS  Poverty Rate',fontsize = 20,color='blue')\n",
    "plt.grid()"
   ]
  },
  {
   "cell_type": "markdown",
   "metadata": {
    "_uuid": "dad11703a35650c65dc61b3c0a78081f500c4450",
    "colab_type": "text",
    "id": "NkG2Sp9R3iGy"
   },
   "source": [
    "Visualization of high school graduation rate vs Poverty rate of each state with different style of seaborn code\n",
    "joint kernel density\n",
    "\n",
    "- pearsonr= if it is 1, there is positive correlation and if it is, -1 there is negative correlation.\n",
    "- If it is zero, there is no correlation between variables\n",
    "- Show the joint distribution using kernel density estimation "
   ]
  },
  {
   "cell_type": "code",
   "execution_count": null,
   "metadata": {
    "_uuid": "9d338fa7a1087ad15fcf741d96b190589c8a8124",
    "colab": {},
    "colab_type": "code",
    "id": "cbseWLU83iGz"
   },
   "outputs": [],
   "source": [
    "g = sns.jointplot(data.area_poverty_ratio, data.area_highschool_ratio, kind=\"kde\", size=7)\n",
    "plt.savefig('graph.png')\n",
    "plt.show()"
   ]
  },
  {
   "cell_type": "markdown",
   "metadata": {
    "colab_type": "text",
    "id": "MxOnWC2H-p7l"
   },
   "source": [
    "{ “scatter” | “reg” | “resid” | “kde” | “hex” }\n",
    "- Different usage of parameters but same plot with previous one"
   ]
  },
  {
   "cell_type": "code",
   "execution_count": null,
   "metadata": {
    "_uuid": "3e647580023ec73442fe2717e813d493e8d13d9a",
    "colab": {},
    "colab_type": "code",
    "id": "lAoQjUe83iG2"
   },
   "outputs": [],
   "source": [
    "g = sns.jointplot(\"area_poverty_ratio\", \"area_highschool_ratio\", data=data,size=5, ratio=3, color=\"r\")"
   ]
  },
  {
   "cell_type": "code",
   "execution_count": null,
   "metadata": {
    "_uuid": "14d8c912966cb5a35dccb75b98bc44d0d79b4805",
    "colab": {},
    "colab_type": "code",
    "id": "RhbATuMN3iHC"
   },
   "outputs": [],
   "source": [
    "data.head()"
   ]
  },
  {
   "cell_type": "code",
   "execution_count": null,
   "metadata": {
    "_uuid": "ef8c2433ef658d41e8361da0bd86fb1b54183cb3",
    "colab": {},
    "colab_type": "code",
    "id": "O9OvKVkI3iHH"
   },
   "outputs": [],
   "source": [
    "sns.lmplot(x=\"area_poverty_ratio\", y=\"area_highschool_ratio\", data=data)\n",
    "plt.show()"
   ]
  },
  {
   "cell_type": "code",
   "execution_count": null,
   "metadata": {
    "_uuid": "f7f4e27efd9d5b02d5b0b537cc9d04bb3516e828",
    "colab": {},
    "colab_type": "code",
    "id": "up9GxXL73iHN"
   },
   "outputs": [],
   "source": [
    "sns.kdeplot(data.area_poverty_ratio, data.area_highschool_ratio, shade=True, cut=3)\n",
    "plt.show()"
   ]
  },
  {
   "cell_type": "code",
   "execution_count": null,
   "metadata": {
    "colab": {},
    "colab_type": "code",
    "id": "h8BiT_w3Rlvr"
   },
   "outputs": [],
   "source": [
    "plt.figure(figsize=(10,5))\n",
    "sns.barplot(x=sorted_data['area_list'], y=sorted_data['area_poverty_ratio'])\n",
    "plt.xticks(rotation= 45)\n",
    "plt.xlabel('States')\n",
    "plt.ylabel('Poverty Rate')\n",
    "plt.title('Poverty Rate Given States')"
   ]
  },
  {
   "cell_type": "code",
   "execution_count": null,
   "metadata": {
    "_uuid": "fabdb2882f8cf72f15a5a0635979d0eadb295456",
    "colab": {},
    "colab_type": "code",
    "id": "CcQ1lXtA3iHT"
   },
   "outputs": [],
   "source": [
    "pal = sns.cubehelix_palette(2, rot=-.5, dark=.3)\n",
    "sns.violinplot(data=data, palette=pal, inner=\"points\")\n",
    "plt.show()"
   ]
  },
  {
   "cell_type": "code",
   "execution_count": null,
   "metadata": {
    "_uuid": "7b964cd9f6e0e19c82ff781e4a6c65aad11d9d42",
    "colab": {},
    "colab_type": "code",
    "id": "YKDrTk5L3iHW"
   },
   "outputs": [],
   "source": [
    "f,ax = plt.subplots(figsize=(5, 5))\n",
    "sns.heatmap(data.corr(), annot=True, linewidths=0.5,linecolor=\"red\", fmt= '.1f',ax=ax)\n",
    "plt.show()"
   ]
  },
  {
   "cell_type": "code",
   "execution_count": null,
   "metadata": {
    "_uuid": "3e2dacdccca37696fe39496bb1b6a4fbd1569565",
    "colab": {},
    "colab_type": "code",
    "id": "RNg1w8v13iHg"
   },
   "outputs": [],
   "source": [
    "sns.pairplot(data)\n",
    "plt.show()"
   ]
  },
  {
   "cell_type": "code",
   "execution_count": null,
   "metadata": {
    "_uuid": "38d6d7b6427e39d53bda29d2ace81b4f30a0b3a4",
    "colab": {},
    "colab_type": "code",
    "id": "4aZXVApv3iIC"
   },
   "outputs": [],
   "source": [
    "df2014 = preProcessedTimesData[preProcessedTimesData.year == 2014].iloc[:3,:]\n",
    "df2014"
   ]
  },
  {
   "cell_type": "code",
   "execution_count": null,
   "metadata": {
    "_uuid": "be7d92020387c0812413aa788277c338e1b490e1",
    "colab": {},
    "colab_type": "code",
    "id": "H0gfGdbE3iIF"
   },
   "outputs": [],
   "source": [
    "df2014 = preProcessedTimesData[preProcessedTimesData.year == 2014].iloc[:3,:]\n",
    "\n",
    "configure_plotly_browser_state()\n",
    "import plotly.graph_objs as go\n",
    "\n",
    "trace1 = go.Bar(\n",
    "                x = df2014.university_name,\n",
    "                y = df2014.citations,\n",
    "                name = \"citations\",\n",
    "                marker = dict(color = 'rgba(255, 174, 255, 0.5)',\n",
    "                             line=dict(color='rgb(0,0,0)',width=1.5)),\n",
    "                text = df2014.country)\n",
    "\n",
    "trace2 = go.Bar(\n",
    "                x = df2014.university_name,\n",
    "                y = df2014.teaching,\n",
    "                name = \"teaching\",\n",
    "                marker = dict(color = 'rgba(255, 255, 128, 0.5)',\n",
    "                              line=dict(color='rgb(0,0,0)',width=1.5)),\n",
    "                text = df2014.country)\n",
    "data = [trace1, trace2]\n",
    "layout = go.Layout(barmode = \"group\")\n",
    "fig = go.Figure(data = data, layout = layout)\n",
    "iplot(fig)"
   ]
  },
  {
   "cell_type": "code",
   "execution_count": null,
   "metadata": {
    "_uuid": "c57c6cab358d6507ab04c4d5d6241dedc453a5f7",
    "colab": {},
    "colab_type": "code",
    "id": "-sAxOaUe3iIP"
   },
   "outputs": [],
   "source": [
    "configure_plotly_browser_state()\n",
    "\n",
    "df2016 = preProcessedTimesData[preProcessedTimesData.year == 2016].iloc[:20,:]\n",
    "num_students_size  = [float(each.replace(',', '.')) for each in df2016.num_students]\n",
    "international_color = [float(each) for each in df2016.international]\n",
    "data = [\n",
    "    {\n",
    "        'y': df2016.teaching,\n",
    "        'x': df2016.world_rank,\n",
    "        'mode': 'markers',\n",
    "        'marker': {\n",
    "            'color': international_color,\n",
    "            'size': num_students_size,\n",
    "            'showscale': True\n",
    "        },\n",
    "        \"text\" :  df2016.university_name    \n",
    "    }\n",
    "]\n",
    "iplot(data)"
   ]
  },
  {
   "cell_type": "code",
   "execution_count": null,
   "metadata": {
    "colab": {},
    "colab_type": "code",
    "id": "lKb06cvkiBSQ"
   },
   "outputs": [],
   "source": [
    "df2014 = preProcessedTimesData[preProcessedTimesData.year == 2014].iloc[:10,:]\n",
    "df2015 = preProcessedTimesData[preProcessedTimesData.year == 2015].iloc[:10,:]\n",
    "df2016 = preProcessedTimesData[preProcessedTimesData.year == 2016].iloc[:10,:]\n",
    "\n",
    "configure_plotly_browser_state()\n",
    "import plotly.graph_objs as go\n",
    "\n",
    "trace1 =go.Scatter(\n",
    "                    x = df2014.world_rank,\n",
    "                    y = df2014.citations,\n",
    "                    mode = \"markers\",\n",
    "                    name = \"2014\",\n",
    "                    marker = dict(color = 'rgba(255, 128, 255, 0.8)'),\n",
    "                    text= df2014.university_name)\n",
    "\n",
    "trace2 =go.Scatter(\n",
    "                    x = df2015.world_rank,\n",
    "                    y = df2015.citations,\n",
    "                    mode = \"markers\",\n",
    "                    name = \"2015\",\n",
    "                    marker = dict(color = 'rgba(255, 128, 2, 0.8)'),\n",
    "                    text= df2015.university_name)\n",
    "\n",
    "trace3 =go.Scatter(\n",
    "                    x = df2016.world_rank,\n",
    "                    y = df2016.citations,\n",
    "                    mode = \"markers\",\n",
    "                    name = \"2016\",\n",
    "                    marker = dict(color = 'rgba(0, 255, 200, 0.8)'),\n",
    "                    text= df2016.university_name)\n",
    "data = [trace1, trace2, trace3]\n",
    "layout = dict(title = 'Citation vs world rank of top 100 universities with 2014, 2015 and 2016 years',\n",
    "              xaxis= dict(title= 'World Rank',ticklen= 5,zeroline= False),\n",
    "              yaxis= dict(title= 'Citation',ticklen= 5,zeroline= False)\n",
    "             )\n",
    "fig = dict(data = data, layout = layout)\n",
    "iplot(fig)"
   ]
  }
 ],
 "metadata": {
  "colab": {
   "collapsed_sections": [],
   "name": "Success_In_Higher_Education.ipynb",
   "provenance": []
  },
  "kernelspec": {
   "display_name": "Python 3",
   "language": "python",
   "name": "python3"
  },
  "language_info": {
   "codemirror_mode": {
    "name": "ipython",
    "version": 3
   },
   "file_extension": ".py",
   "mimetype": "text/x-python",
   "name": "python",
   "nbconvert_exporter": "python",
   "pygments_lexer": "ipython3",
   "version": "3.7.3"
  }
 },
 "nbformat": 4,
 "nbformat_minor": 2
}
