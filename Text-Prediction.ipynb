{
 "cells": [
  {
   "cell_type": "markdown",
   "id": "fae53918-cd5a-463e-a2a4-1556f0096310",
   "metadata": {},
   "source": [
    "# Text Prediction"
   ]
  },
  {
   "cell_type": "code",
   "execution_count": null,
   "id": "e1f4160f-84eb-4e01-a291-d9909934680d",
   "metadata": {},
   "outputs": [],
   "source": []
  },
  {
   "cell_type": "code",
   "execution_count": null,
   "id": "7f349143-24d2-42ab-b91d-d3c1f7274924",
   "metadata": {},
   "outputs": [],
   "source": []
  },
  {
   "cell_type": "code",
   "execution_count": null,
   "id": "0d20ce09-4d4e-4fb4-94c0-9c1db8083e42",
   "metadata": {},
   "outputs": [],
   "source": []
  },
  {
   "cell_type": "code",
   "execution_count": null,
   "id": "9f47d389-bdad-4d70-b59d-f331e5fd8bb3",
   "metadata": {},
   "outputs": [],
   "source": []
  }
 ],
 "metadata": {
  "kernelspec": {
   "display_name": "Python 3 (ipykernel)",
   "language": "python",
   "name": "python3"
  },
  "language_info": {
   "codemirror_mode": {
    "name": "ipython",
    "version": 3
   },
   "file_extension": ".py",
   "mimetype": "text/x-python",
   "name": "python",
   "nbconvert_exporter": "python",
   "pygments_lexer": "ipython3",
   "version": "3.11.6"
  }
 },
 "nbformat": 4,
 "nbformat_minor": 5
}
