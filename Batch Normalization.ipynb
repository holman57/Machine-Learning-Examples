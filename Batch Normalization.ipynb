{
 "cells": [
  {
   "cell_type": "markdown",
   "id": "bcfe41ce-fbe1-4f2a-8249-b84266ffc0dd",
   "metadata": {},
   "source": [
    "# Batch Normalization"
   ]
  },
  {
   "cell_type": "code",
   "execution_count": null,
   "id": "3a272cee-2656-4dfd-a1c3-25776c257fc0",
   "metadata": {},
   "outputs": [],
   "source": [
    "import torch\n",
    "\n",
    "def batchnorm(X, gamma, beta):\n",
    "\n",
    "    # extract the dimensions\n",
    "    N, C, H, W = list(X.size())\n",
    "    # mini-batch mean\n",
    "    mean = torch.mean(X, dim=(0, 2, 3))\n",
    "    # mini-batch variance\n",
    "    variance = torch.mean((X - mean.reshape((1, C, 1, 1))) ** 2, dim=(0, 2, 3))\n",
    "    # normalize\n",
    "    X_hat = (X - mean.reshape((1, C, 1, 1))) * 1.0 / torch.sqrt(variance.reshape((1, C, 1, 1)) )\n",
    "    # scale and shift\n",
    "    out = gamma.reshape((1, C, 1, 1)) * X_hat + beta.reshape((1, C, 1, 1))\n",
    "\n",
    "    return out"
   ]
  }
 ],
 "metadata": {
  "kernelspec": {
   "display_name": "Python 3 (ipykernel)",
   "language": "python",
   "name": "python3"
  },
  "language_info": {
   "codemirror_mode": {
    "name": "ipython",
    "version": 3
   },
   "file_extension": ".py",
   "mimetype": "text/x-python",
   "name": "python",
   "nbconvert_exporter": "python",
   "pygments_lexer": "ipython3",
   "version": "3.11.6"
  }
 },
 "nbformat": 4,
 "nbformat_minor": 5
}
