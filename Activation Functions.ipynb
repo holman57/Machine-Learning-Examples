{
 "cells": [
  {
   "cell_type": "markdown",
   "id": "580b9804-e632-41ca-a120-d741e254019d",
   "metadata": {},
   "source": [
    "# Activation Functions"
   ]
  },
  {
   "cell_type": "code",
   "execution_count": null,
   "id": "c5d06aab-777d-402a-974f-8faec1a4317b",
   "metadata": {},
   "outputs": [],
   "source": [
    "def m_sigmoid(x):\n",
    "    return 1 / (1 + torch.exp(-x))"
   ]
  },
  {
   "cell_type": "code",
   "execution_count": null,
   "id": "2a7908ce-3267-4348-ae1e-a1a1259cceca",
   "metadata": {},
   "outputs": [],
   "source": [
    "def m_tanh(x):\n",
    "    return (torch.exp(x) - torch.exp(-x)) / (torch.exp(x) + torch.exp(-x))"
   ]
  },
  {
   "cell_type": "code",
   "execution_count": null,
   "id": "e9777e25-dacf-4ddb-a462-d2c05e050f9a",
   "metadata": {},
   "outputs": [],
   "source": [
    "def m_relu(x):\n",
    "   return torch.mul(x , (x > 0))"
   ]
  },
  {
   "cell_type": "code",
   "execution_count": null,
   "id": "9c263640-1265-466e-a67d-bee62d31f24b",
   "metadata": {},
   "outputs": [],
   "source": [
    "def m_softmax(x):\n",
    "    return torch.exp(x) / torch.sum(torch.exp(x))"
   ]
  },
  {
   "cell_type": "code",
   "execution_count": null,
   "id": "1b985f64-2c35-4b60-8028-3cfe74ef5450",
   "metadata": {},
   "outputs": [],
   "source": []
  }
 ],
 "metadata": {
  "kernelspec": {
   "display_name": "Python 3 (ipykernel)",
   "language": "python",
   "name": "python3"
  },
  "language_info": {
   "codemirror_mode": {
    "name": "ipython",
    "version": 3
   },
   "file_extension": ".py",
   "mimetype": "text/x-python",
   "name": "python",
   "nbconvert_exporter": "python",
   "pygments_lexer": "ipython3",
   "version": "3.11.6"
  }
 },
 "nbformat": 4,
 "nbformat_minor": 5
}
