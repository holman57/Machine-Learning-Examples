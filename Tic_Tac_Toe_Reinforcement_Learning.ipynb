{
 "cells": [
  {
   "cell_type": "markdown",
   "metadata": {
    "colab_type": "text",
    "id": "2btqIRR4PXWR"
   },
   "source": [
    "# HW8: Tic-Tac-Toe Reinforcement Learning"
   ]
  },
  {
   "cell_type": "code",
   "execution_count": null,
   "metadata": {
    "colab": {},
    "colab_type": "code",
    "id": "h5Gy--yO2sbj"
   },
   "outputs": [],
   "source": [
    "import random\n",
    "import matplotlib \n",
    "import numpy as np \n",
    "from collections import defaultdict \n",
    "import pylab as py\n",
    "%matplotlib inline "
   ]
  },
  {
   "cell_type": "markdown",
   "metadata": {
    "colab_type": "text",
    "id": "L2EAWD08PuTm"
   },
   "source": [
    "**State action value function:** Note, the Q value of a player is based on the state of the board and a given action. The board is represented as 9 characters, and the actions are one of 9 positions (0 through 8 by index). Notably, although players alternate which one starts, the board always starts with the player represented by X. This has the added advantage that when observing a board it is always clear who goes next, X or O."
   ]
  },
  {
   "cell_type": "markdown",
   "metadata": {
    "colab_type": "text",
    "id": "eZuS-uR-Pxjs"
   },
   "source": [
    "**Dependence of value on policy and environment (a.k.a. opponent):** Also, you can note that the value function has an interesting relationship with the policy. In one sense, the policy can be completely divorced from the value function - as in the ‘random’ policy. However, the player will always learn values of board states whose outcomes are dependent on that policy. That is, a board state may be good against a random player but bad against a good player - the value of a state differs on your opponent as well e.g. there are many states where a good player is guaranteed to win, while a random player may still lose."
   ]
  },
  {
   "cell_type": "markdown",
   "metadata": {
    "colab_type": "text",
    "id": "fShPOQNhP1cl"
   },
   "source": [
    "**Size of the problem:** Reinforcement learning works well for this game in part because the state space is relatively small. In fact, taking into account symmetry (which we don’t do here), there are only 765 independent board states, and only 26,830 ways the game can be played, so adequate learning can occur on the order of thousands of iterations."
   ]
  },
  {
   "cell_type": "code",
   "execution_count": null,
   "metadata": {
    "colab": {},
    "colab_type": "code",
    "id": "ov4aGacG3g0F"
   },
   "outputs": [],
   "source": [
    "class BoardEnvironment:\n",
    "  \"\"\" this class creates an environment for agents to interact with\"\"\"\n",
    "\n",
    "  def __init__(self):\n",
    "    \"initialize board\"\n",
    "  \n",
    "  def set_players(self, playerA, playerB):\n",
    "    \" connects players with the environment \"\n",
    "    self.playerA = playerA\n",
    "    self.playerB = playerB\n",
    "    self.reset() # defines current_player\n",
    "      \n",
    "  def reset(self):\n",
    "    self.turn = 'X' # the board always starts with X, regardless of which player\n",
    "\n",
    "    # board states are a 9-character representing the state of the board.\n",
    "    self.board = list('---------')  \n",
    "    if (self.playerA and self.playerB): # if they are set\n",
    "      self.playerA.reset_past()\n",
    "      self.playerB.reset_past()\n",
    "      if (random.random() < 0.5):  # randomly pick the player to start\n",
    "        self.current_player = self.playerA\n",
    "      else:\n",
    "        self.current_player = self.playerB \n",
    "\n",
    "  def print_board(self, board_string = None):\n",
    "    \"print more readable board either from supplied board string or the current board\"\n",
    "    if not board_string:\n",
    "      B = self.board\n",
    "    else:\n",
    "      B = board_string\n",
    "    print(B[0],'|', B[1],'|', B[2], sep='')\n",
    "    print('-----')\n",
    "    print(B[3],'|', B[4],'|', B[5], sep='')\n",
    "    print('-----')\n",
    "    print(B[6],'|', B[7],'|', B[8], sep='')\n",
    "\n",
    "  def get_state(self):\n",
    "    return \"\".join(self.board)\n",
    "  \n",
    "  def other_player(self):\n",
    "    # note, returns other player even if playerA is playing itself\n",
    "    if (self.current_player == self.playerA):\n",
    "      return self.playerB \n",
    "    else:\n",
    "      return self.playerA  \n",
    "    \n",
    "  def available_actions(self):\n",
    "    return [ind for ind, val in enumerate(self.board) if val == '-']\n",
    "\n",
    "  def play_game(self): \n",
    "    # returns the winning player or None if a tie\n",
    "    self.reset()\n",
    "    while (not self.is_full() ):\n",
    "      choice = self.current_player.select_action()\n",
    "\n",
    "      self.board[choice] = self.turn # should check if valid\n",
    "\n",
    "      if self.winner(self.turn):\n",
    "        self.current_player.reward(100)\n",
    "        self.other_player().reward(-100)\n",
    "        return self.current_player\n",
    "      else: # no one has won yet\n",
    "        self.other_player().reward(0)\n",
    "\n",
    "      # switch players\n",
    "      self.turn = 'X' if self.turn == 'O' else 'O' # switch turn\n",
    "      self.current_player = self.other_player()\n",
    "    # it's a tie  \n",
    "    return None\n",
    "        \n",
    "  def winner(self, check_for = ['X','O']):\n",
    "    straight_lines = ((0,1,2),(3,4,5),(6,7,8),(0,3,6),\n",
    "                      (1,4,7),(2,5,8),(0,4,8),(2,4,6))\n",
    "    for turn in check_for:\n",
    "        for line in straight_lines:\n",
    "            if all(x == turn for x in (self.board[i] for i in line)):\n",
    "                return turn\n",
    "    return '' # if there is no winner\n",
    "\n",
    "  def is_full(self):\n",
    "    return('-' not in self.board) "
   ]
  },
  {
   "cell_type": "code",
   "execution_count": null,
   "metadata": {
    "colab": {},
    "colab_type": "code",
    "id": "4ryPImGR3mW0"
   },
   "outputs": [],
   "source": [
    "class Agent:\n",
    "    \"\"\" this class is a generic Q-Learning reinforcement learning agent for discrete states and fixed actions\n",
    "    represented as strings\"\"\"\n",
    "    def __init__(self, environment, policy = 'max', learning_rate = 0.5, discount_factor = 0.95, epsilon = 0.01):\n",
    "        if policy in ['max', 'random', 'epsilon']:\n",
    "          self.policy = policy\n",
    "        else:\n",
    "          raise InputError(policy, ' is not an available policy')\n",
    "        self.learning_rate = learning_rate\n",
    "        self.discount_factor = discount_factor\n",
    "        self.Q = defaultdict(lambda: 0.0) # stores (state, action) value tuples as keys\n",
    "        self.environment = environment\n",
    "        self.epsilon = epsilon # Fraction of time making a random choice for epsilon policy\n",
    "        self.reset_past()\n",
    "\n",
    "    def reset_past(self):\n",
    "      self.past_action = None\n",
    "      self.past_state = None\n",
    "          \n",
    "    def select_action(self):\n",
    "      available_actions = self.environment.available_actions()\n",
    "      if (self.policy == 'random') or (self.policy == 'epsilon' and random.random() < self.epsilon):\n",
    "        choice = random.choice(available_actions)\n",
    "      else: #self.policy == 'max' or it's an epsilon policy determined to pick the max\n",
    "        Q_vals = [self.Q[(self.environment.get_state(), x)] for x in available_actions]\n",
    "        #randomly pick one of the maximum values\n",
    "        max_val = max(Q_vals) # will often be 0 in the beginning\n",
    "        max_pos = [i for i, j in enumerate(Q_vals) if j == max_val]\n",
    "        max_indices = [available_actions[x] for x in max_pos]\n",
    "        choice = random.choice(max_indices)\n",
    "      self.past_state = self.environment.get_state()\n",
    "      self.past_action = choice\n",
    "      return choice\n",
    "        \n",
    "    def reward(self, reward_value):\n",
    "        # finding the best expected reward\n",
    "        available_actions = self.environment.available_actions()\n",
    "        next_Q_vals = [self.Q[(self.environment.get_state(), x)] for x in available_actions]\n",
    "        max_next_Q = max(next_Q_vals) if next_Q_vals else 0 # will often be 0 in the beginning\n",
    "        td_target = reward_value + self.discount_factor * max_next_Q\n",
    "        reward_pred_error = td_target - self.Q[(self.past_state,self.past_action)]\n",
    "        #if (self.past_state or self.past_action):\n",
    "        self.Q[(self.past_state,self.past_action)] += self.learning_rate * reward_pred_error"
   ]
  },
  {
   "cell_type": "code",
   "execution_count": null,
   "metadata": {
    "colab": {},
    "colab_type": "code",
    "id": "KnXP6lE76ywr"
   },
   "outputs": [],
   "source": [
    "class RepeatedGames:\n",
    "    def __init__(self, environment, playerA, playerB):\n",
    "        self.environment = environment\n",
    "        self.playerA = playerA\n",
    "        self.playerB = playerB\n",
    "        self.reset_history()\n",
    "    \n",
    "    def reset_history(self):\n",
    "        self.history = []\n",
    "    \n",
    "    def play_game(self):\n",
    "        self.environment.reset()\n",
    "        winner = self.environment.play_game()\n",
    "        if (winner == self.playerA):\n",
    "          self.history.append('A')\n",
    "        elif (winner == self.playerB):\n",
    "          self.history.append('B')\n",
    "        else:\n",
    "          self.history.append('-')\n",
    "    \n",
    "    def play_games(self, games_to_play):\n",
    "        for i in range(games_to_play):\n",
    "            self.play_game()\n",
    "        print(self.history[-games_to_play:].count('A'),'games won by player A')\n",
    "        print(self.history[-games_to_play:].count('B'),'games won by player B')\n",
    "        print(self.history[-games_to_play:].count('-'),'ties')"
   ]
  },
  {
   "cell_type": "code",
   "execution_count": null,
   "metadata": {
    "colab": {},
    "colab_type": "code",
    "id": "7xRE2vypT2nF"
   },
   "outputs": [],
   "source": [
    "def running_mean(x, N):\n",
    "    return np.convolve(x, np.ones((N,))/N, mode='valid')"
   ]
  },
  {
   "cell_type": "markdown",
   "metadata": {
    "colab_type": "text",
    "id": "vE6yMzZWP7Am"
   },
   "source": [
    "#### A. Random vs Random"
   ]
  },
  {
   "cell_type": "markdown",
   "metadata": {
    "colab_type": "text",
    "id": "lw4vQGJWQB2O"
   },
   "source": [
    "#### B. Max vs Random"
   ]
  },
  {
   "cell_type": "markdown",
   "metadata": {
    "colab_type": "text",
    "id": "DJDHMmIiQFEw"
   },
   "source": [
    "#### C. Max vs Max"
   ]
  },
  {
   "cell_type": "markdown",
   "metadata": {
    "colab_type": "text",
    "id": "Z8K3n1owQJ08"
   },
   "source": [
    "Observe their learning in the following way\n",
    "1. Have them play 100 times (observe behavior prior to learning)\n",
    "  - Then print how often each wins or ties in these 100 games\n"
   ]
  },
  {
   "cell_type": "markdown",
   "metadata": {
    "colab_type": "text",
    "id": "oUa6Q4G4QV-E"
   },
   "source": [
    "2. Have them play 10,000 times.\n",
    "   - Display a running average of the rewards player A receives.\n"
   ]
  },
  {
   "cell_type": "markdown",
   "metadata": {
    "colab_type": "text",
    "id": "Mc-ELJspQclE"
   },
   "source": [
    "3. Have them play 100 more times\n",
    "   - Then print how often each wins or ties in these 100 games\n"
   ]
  },
  {
   "cell_type": "markdown",
   "metadata": {
    "colab_type": "text",
    "id": "oXWGc6p7Tvv-"
   },
   "source": [
    "#### A. Random vs Random"
   ]
  },
  {
   "cell_type": "code",
   "execution_count": 11,
   "metadata": {
    "colab": {
     "base_uri": "https://localhost:8080/",
     "height": 482
    },
    "colab_type": "code",
    "id": "RoUxiTLVa56g",
    "outputId": "bc7ad690-323d-4b27-e928-812ca09576ad"
   },
   "outputs": [
    {
     "name": "stdout",
     "output_type": "stream",
     "text": [
      "47 games won by player A\n",
      "44 games won by player B\n",
      "9 ties\n",
      "\n",
      "4428 games won by player A\n",
      "4318 games won by player B\n",
      "1254 ties\n",
      "\n",
      "42 games won by player A\n",
      "48 games won by player B\n",
      "10 ties\n"
     ]
    },
    {
     "data": {
      "image/png": "[encoded data removed]",
      "text/plain": [
       "<Figure size 432x288 with 1 Axes>"
      ]
     },
     "metadata": {
      "tags": []
     },
     "output_type": "display_data"
    }
   ],
   "source": [
    "board = BoardEnvironment()\n",
    "A = Agent(board, 'random')\n",
    "B = Agent(board, 'random')\n",
    "board.set_players(A,B)\n",
    "\n",
    "tournament = RepeatedGames(board,A,B)\n",
    "tournament.play_games(100)\n",
    "print()\n",
    "tournament.play_games(10000)\n",
    "print()\n",
    "tournament.play_games(100)\n",
    "\n",
    "history = np.array(tournament.history.copy())\n",
    "rewards = np.zeros(len(history))\n",
    "rewards[history == 'A'] = 100\n",
    "rewards[history == 'B'] = -100\n",
    "\n",
    "r_mean = running_mean(rewards, 100)\n",
    "\n",
    "py.plot(r_mean)\n",
    "py.xlabel('games played')\n",
    "py.ylabel('average reward')\n",
    "py.title('Random vs Random');"
   ]
  },
  {
   "cell_type": "markdown",
   "metadata": {
    "colab_type": "text",
    "id": "MESK4XhMUY4m"
   },
   "source": [
    "#### B. Max vs Random"
   ]
  },
  {
   "cell_type": "code",
   "execution_count": 8,
   "metadata": {
    "colab": {
     "base_uri": "https://localhost:8080/",
     "height": 516
    },
    "colab_type": "code",
    "id": "dYpRUVvYa56o",
    "outputId": "7d1b409e-3511-4c61-bb99-a16dea9a3de0"
   },
   "outputs": [
    {
     "name": "stdout",
     "output_type": "stream",
     "text": [
      "41 games won by player A\n",
      "42 games won by player B\n",
      "17 ties\n",
      "\n",
      "7611 games won by player A\n",
      "1199 games won by player B\n",
      "1190 ties\n",
      "Average 63.475247524752476\n",
      "\n",
      "85 games won by player A\n",
      "4 games won by player B\n",
      "11 ties\n",
      "\n"
     ]
    },
    {
     "data": {
      "image/png": "[encoded data removed]",
      "text/plain": [
       "<Figure size 432x288 with 1 Axes>"
      ]
     },
     "metadata": {
      "tags": []
     },
     "output_type": "display_data"
    }
   ],
   "source": [
    "board = BoardEnvironment()\n",
    "A = Agent(board, 'max')\n",
    "B = Agent(board, 'random')\n",
    "board.set_players(A,B)\n",
    "\n",
    "tournament = RepeatedGames(board,A,B)\n",
    "tournament.play_games(100)\n",
    "print()\n",
    "\n",
    "tournament.play_games(10000)\n",
    "history = np.array(tournament.history.copy())\n",
    "rewards = np.zeros(len(history))\n",
    "rewards[history == 'A'] = 100\n",
    "rewards[history == 'B'] = -100\n",
    "\n",
    "r_mean = running_mean(rewards, 100)\n",
    "py.plot(r_mean)\n",
    "py.xlabel('games played')\n",
    "py.ylabel('average reward')\n",
    "py.title('Max vs Random');\n",
    "print(\"Average\", np.mean(rewards))\n",
    "print()\n",
    "tournament.play_games(100)\n",
    "print();"
   ]
  },
  {
   "cell_type": "markdown",
   "metadata": {
    "colab_type": "text",
    "id": "YqYDXPEZVEsg"
   },
   "source": [
    "#### C. Max vs Max"
   ]
  },
  {
   "cell_type": "code",
   "execution_count": 9,
   "metadata": {
    "colab": {
     "base_uri": "https://localhost:8080/",
     "height": 516
    },
    "colab_type": "code",
    "id": "p_1091q4VK_g",
    "outputId": "74d32ebf-1861-49ae-b709-4f5cfae62f3a"
   },
   "outputs": [
    {
     "name": "stdout",
     "output_type": "stream",
     "text": [
      "42 games won by player A\n",
      "48 games won by player B\n",
      "10 ties\n",
      "\n",
      "206 games won by player A\n",
      "172 games won by player B\n",
      "9622 ties\n",
      "Average 0.27722772277227725\n",
      "\n",
      "0 games won by player A\n",
      "0 games won by player B\n",
      "100 ties\n",
      "\n"
     ]
    },
    {
     "data": {
      "image/png": "[encoded data removed]",
      "text/plain": [
       "<Figure size 432x288 with 1 Axes>"
      ]
     },
     "metadata": {
      "tags": []
     },
     "output_type": "display_data"
    }
   ],
   "source": [
    "board = BoardEnvironment()\n",
    "A = Agent(board, 'max')\n",
    "B = Agent(board, 'max')\n",
    "board.set_players(A,B)\n",
    "\n",
    "tournament = RepeatedGames(board,A,B)\n",
    "tournament.play_games(100)\n",
    "print()\n",
    "\n",
    "tournament.play_games(10000)\n",
    "history = np.array(tournament.history.copy())\n",
    "rewards = np.zeros(len(history))\n",
    "rewards[history == 'A'] = 100\n",
    "rewards[history == 'B'] = -100\n",
    "\n",
    "r_mean = running_mean(rewards, 100)\n",
    "py.plot(r_mean)\n",
    "py.xlabel('games played')\n",
    "py.ylabel('average reward')\n",
    "py.title('Max vs Max');\n",
    "print(\"Average\", np.mean(rewards))\n",
    "print()\n",
    "tournament.play_games(100)\n",
    "print();"
   ]
  },
  {
   "cell_type": "code",
   "execution_count": 10,
   "metadata": {
    "colab": {
     "base_uri": "https://localhost:8080/",
     "height": 476
    },
    "colab_type": "code",
    "id": "7NjVkx3OU632",
    "outputId": "366f5268-7df3-4934-97dd-11fbc4d52999"
   },
   "outputs": [
    {
     "name": "stdout",
     "output_type": "stream",
     "text": [
      "highest Q for player A: 93.75 , state_action: ('OOXX-OXXO', 4)\n",
      "O|O|X\n",
      "-----\n",
      "X|-|O\n",
      "-----\n",
      "X|X|O\n",
      "\n",
      "highest Q for player B: 87.5 , state_action: ('-XXOXXOO-', 0)\n",
      "-|X|X\n",
      "-----\n",
      "O|X|X\n",
      "-----\n",
      "O|O|-\n",
      "\n",
      "lowest Q for player A: -75.0 , state_action: ('XX-O--O-X', 5)\n",
      "X|X|-\n",
      "-----\n",
      "O|-|-\n",
      "-----\n",
      "O|-|X\n",
      "\n",
      "lowest Q for player B: -75.0 , state_action: ('OOXX-OXX-', 8)\n",
      "O|O|X\n",
      "-----\n",
      "X|-|O\n",
      "-----\n",
      "X|X|-\n"
     ]
    }
   ],
   "source": [
    "# observe the highest and lowest board state action value functions\n",
    "key_max = max(A.Q.keys(), key=(lambda k: A.Q[k]))\n",
    "print(\"highest Q for player A:\", A.Q[key_max],', state_action:', key_max)\n",
    "board.print_board(key_max[0])\n",
    "key_max = max(B.Q.keys(), key=(lambda k: B.Q[k]))\n",
    "print(\"\\nhighest Q for player B:\", B.Q[key_max],', state_action:', key_max)\n",
    "board.print_board(key_max[0])\n",
    "key_min = min(A.Q.keys(), key=(lambda k: A.Q[k]))\n",
    "print(\"\\nlowest Q for player A:\", A.Q[key_min],', state_action:', key_min)\n",
    "board.print_board(key_min[0])\n",
    "key_min = min(B.Q.keys(), key=(lambda k: B.Q[k]))\n",
    "print(\"\\nlowest Q for player B:\", B.Q[key_min],', state_action:', key_min)\n",
    "board.print_board(key_min[0])"
   ]
  }
 ],
 "metadata": {
  "anaconda-cloud": {},
  "colab": {
   "collapsed_sections": [],
   "name": "HW8 Tic-Tac-Toe Reinforcement Learning",
   "provenance": []
  },
  "kernelspec": {
   "display_name": "Python 3",
   "language": "python",
   "name": "python3"
  },
  "language_info": {
   "codemirror_mode": {
    "name": "ipython",
    "version": 3
   },
   "file_extension": ".py",
   "mimetype": "text/x-python",
   "name": "python",
   "nbconvert_exporter": "python",
   "pygments_lexer": "ipython3",
   "version": "3.7.3"
  }
 },
 "nbformat": 4,
 "nbformat_minor": 2
}
