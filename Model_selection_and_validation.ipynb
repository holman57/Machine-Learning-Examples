{
 "cells": [
  {
   "cell_type": "markdown",
   "metadata": {
    "colab_type": "text",
    "id": "0xe9qnzbXvAj"
   },
   "source": [
    "# Model selection and validation"
   ]
  },
  {
   "cell_type": "markdown",
   "metadata": {
    "colab_type": "text",
    "id": "utvw4jvfXvAl"
   },
   "source": [
    "In this notebook we determine which of the following sklearn machine learning models is best for predicting numerical digits from $0$ to $9$ based on a range of given hyperparameters using The Digit Dataset [Scikit-Learn.org](https://scikit-learn.org/stable/auto_examples/datasets/plot_digits_last_image.html) |  [Cross-validation](https://scikit-learn.org/stable/modules/cross_validation.html) | [Model evaluation](https://scikit-learn.org/stable/modules/model_evaluation.html)\\.\n"
   ]
  },
  {
   "cell_type": "code",
   "execution_count": 1,
   "metadata": {
    "colab": {},
    "colab_type": "code",
    "id": "P_Bef4UqI3CK"
   },
   "outputs": [],
   "source": [
    "import sklearn\n",
    "from sklearn import datasets\n",
    "\n",
    "digits = datasets.load_digits()"
   ]
  },
  {
   "cell_type": "markdown",
   "metadata": {
    "colab_type": "text",
    "id": "pKBNpprxYTn3"
   },
   "source": [
    "<table style=\"border: 1px solid black;\">\n",
    "  <tr>\n",
    "    <th style=\"border: 1px solid black;\">Model</th>\n",
    "    <th style=\"border: 1px solid black;\">Hyperparameter</th>\n",
    "    <th style=\"border: 1px solid black;\">Testing range</th>\n",
    "    <th style=\"border: 1px solid black;\">Notes</th>\n",
    "  </tr>\n",
    "  <tr>\n",
    "    <td style=\"border: 1px solid black;\">Support Vector Machine</td>\n",
    "    <td style=\"border: 1px solid black;\"><b>Gamma</b> - size of the kernel <br /><b>C</b> - slack variable</td>\n",
    "    <td style=\"border: 1px solid black;\">$10^{-x}$ for $x = -5$ to $5$</td>\n",
    "    <td style=\"border: 1px solid black;\">use the ‘rbf’: radial basis function kernel</td>\n",
    "  </tr>\n",
    "  <tr>\n",
    "    <td style=\"border: 1px solid black;\">K-nearest neighbors</td>\n",
    "    <td style=\"border: 1px solid black;\"><b>k</b> - number of neighbors</td>\n",
    "    <td style=\"border: 1px solid black;\">$1,3,5,7,9$</td>\n",
    "    <td style=\"border: 1px solid black;\">use the sklearn function</td>\n",
    "  </tr>\n",
    "    <tr>\n",
    "    <td style=\"border: 1px solid black;\">Decision Trees</td>\n",
    "    <td style=\"border: 1px solid black;\"><b>min_samples_split</b></td>\n",
    "    <td style=\"border: 1px solid black;\">$1,3,5,7,9$</td>\n",
    "    <td style=\"border: 1px solid black;\">use the defaults for the other hyperparameters.</td>\n",
    "  </tr>\n",
    "    <tr>\n",
    "    <td style=\"border: 1px solid black;\">Logistic Regression</td>\n",
    "    <td style=\"border: 1px solid black;\"><b>C</b> - inverse of the the regularization strength <br /> (smaller = more regularization)</td>\n",
    "    <td style=\"border: 1px solid black;\">$10^{-x}$ for $x = -5$ to $5$</td>\n",
    "    <td style=\"border: 1px solid black;\">with the L1 penalty (Lasso)</td>\n",
    "  </tr>\n",
    "</table>"
   ]
  },
  {
   "cell_type": "markdown",
   "metadata": {
    "colab_type": "text",
    "id": "pEgrWPbgI3CQ"
   },
   "source": [
    "### 1. Separate data into training and testing. Use cross-validation to select the right parameters\n",
    "- We use **train_test_split** to create a separate training and test set.\n",
    "- `X_train, X_test, y_train, y_test = train_test_split(X, y, stratify=True, test_size=0.20)`\n",
    "- Setting up KFold cross-validation, we  use `n_splits=10` with `shuffle=True`.\n"
   ]
  },
  {
   "cell_type": "code",
   "execution_count": 2,
   "metadata": {
    "colab": {},
    "colab_type": "code",
    "id": "Fv4QNgbtI3CR"
   },
   "outputs": [],
   "source": [
    "from sklearn.model_selection import train_test_split, StratifiedKFold\n",
    "\n",
    "x, y = digits.data, digits.target\n",
    "x_train, x_test, y_train, y_test = train_test_split(x, y, stratify=y, test_size=0.20)\n",
    "\n",
    "skf = StratifiedKFold(n_splits=10, shuffle=True)"
   ]
  },
  {
   "cell_type": "markdown",
   "metadata": {
    "colab_type": "text",
    "id": "rMYe4KrNOfMl"
   },
   "source": [
    "The sklearn module is throwing **`FutureWarning`**, **`ConvergenceWarning`**, and **`DeprecationWarning`** because of updates and changes to the  functions we are importing. For learning purposes, let's disable warnings."
   ]
  },
  {
   "cell_type": "code",
   "execution_count": 3,
   "metadata": {
    "colab": {},
    "colab_type": "code",
    "id": "sMjUt-DJOi-7"
   },
   "outputs": [],
   "source": [
    "def warn(*args, **kwargs):\n",
    "    pass\n",
    "import warnings\n",
    "warnings.warn = warn"
   ]
  },
  {
   "cell_type": "markdown",
   "metadata": {
    "colab_type": "text",
    "id": "ftZKAQS5I3CY"
   },
   "source": [
    "### 2. Train the models and report the accuracy."
   ]
  },
  {
   "cell_type": "code",
   "execution_count": 4,
   "metadata": {
    "colab": {
     "base_uri": "https://localhost:8080/",
     "height": 90
    },
    "colab_type": "code",
    "id": "a7XqxxYfiV6p",
    "outputId": "c6273593-26ee-4f7c-e322-41728cd86056"
   },
   "outputs": [
    {
     "name": "stdout",
     "output_type": "stream",
     "text": [
      "SVC = 54.4 %\n",
      "KNeighborsClassifier = 98.7 %\n",
      "DecisionTreeClassifier = 84.9 %\n",
      "LogisticRegression = 95.8 %\n"
     ]
    }
   ],
   "source": [
    "import numpy as np\n",
    "from sklearn import svm, tree, linear_model, model_selection\n",
    "from sklearn.neighbors import KNeighborsClassifier\n",
    "\n",
    "default_models = [svm.SVC(),\n",
    "                  KNeighborsClassifier(),\n",
    "                  tree.DecisionTreeClassifier(),\n",
    "                  linear_model.LogisticRegression()]\n",
    "\n",
    "default_accuracy = []\n",
    "for model in enumerate(default_models):\n",
    "    default_accuracy.append(round(np.mean(model_selection.cross_val_score(model[1],x_train,y_train,cv=skf))*100,1))\n",
    "    print(\"{} = {} %\".format(str(model[1]).split('(')[0],default_accuracy[len(default_accuracy)-1]))"
   ]
  },
  {
   "cell_type": "markdown",
   "metadata": {
    "colab_type": "text",
    "id": "-VmH0SUaiU0k"
   },
   "source": [
    "### Cross-validate each model variant and select the best hyperparameters. \n",
    "\n",
    "#### $10^{-x}$ for $x = -5$ to $5$"
   ]
  },
  {
   "cell_type": "code",
   "execution_count": 5,
   "metadata": {
    "colab": {
     "base_uri": "https://localhost:8080/",
     "height": 35
    },
    "colab_type": "code",
    "id": "bGbbuhs2MZyY",
    "outputId": "bfb8fc94-4c0c-472e-8de6-faa496a9dbb2"
   },
   "outputs": [
    {
     "data": {
      "text/plain": [
       "[100000.0, 10000.0, 1000.0, 100.0, 10.0, 1.0, 0.1, 0.01, 0.001, 0.0001]"
      ]
     },
     "execution_count": 5,
     "metadata": {},
     "output_type": "execute_result"
    }
   ],
   "source": [
    "param_range = [10.0**-x for x in range(-5,5)]\n",
    "param_range"
   ]
  },
  {
   "cell_type": "markdown",
   "metadata": {
    "colab_type": "text",
    "id": "xgbxm4HdReIz"
   },
   "source": [
    "#### Odd numbers from 1 to 9"
   ]
  },
  {
   "cell_type": "code",
   "execution_count": 6,
   "metadata": {
    "colab": {
     "base_uri": "https://localhost:8080/",
     "height": 35
    },
    "colab_type": "code",
    "id": "L9LcKQVsQT1h",
    "outputId": "961c2dbe-14d5-4b33-fe68-2c4418002ce8"
   },
   "outputs": [
    {
     "data": {
      "text/plain": [
       "[1, 3, 5, 7, 9]"
      ]
     },
     "execution_count": 6,
     "metadata": {},
     "output_type": "execute_result"
    }
   ],
   "source": [
    "param_odds = list(range(1, 10, 2))\n",
    "param_odds"
   ]
  },
  {
   "cell_type": "markdown",
   "metadata": {
    "colab_type": "text",
    "id": "VnT134RltCOa"
   },
   "source": [
    " - For each of the four models, we will find the hyperparameters giving the highest accuracy by performing an exhaustive grid search. \n",
    "  - Report the hyperparameter values and accuracy.\n",
    "  - We use `sklearn.model_selection.GridSearchCV`\n",
    "  - Models with two or more hyperparameters need to search through every possible combination."
   ]
  },
  {
   "cell_type": "code",
   "execution_count": 7,
   "metadata": {
    "colab": {
     "base_uri": "https://localhost:8080/",
     "height": 90
    },
    "colab_type": "code",
    "id": "Sb_OA__inzoj",
    "outputId": "0ff2c5d4-a116-43c3-e25b-d55e6375b1fb"
   },
   "outputs": [
    {
     "name": "stdout",
     "output_type": "stream",
     "text": [
      "SVC = 99.0 % with {'C': 1.0, 'gamma': 0.001}\n",
      "KNeighborsClassifier = 98.0 % with {'n_neighbors': 1}\n",
      "DecisionTreeClassifier = 83.0 % with {'min_samples_split': 3}\n",
      "LogisticRegression = 96.0 % with {'C': 0.1}\n"
     ]
    }
   ],
   "source": [
    "from sklearn.model_selection import GridSearchCV\n",
    "\n",
    "grid = [GridSearchCV(svm.SVC(kernel=\"rbf\"), {'C':param_range,'gamma':param_range}).fit(x_train, y_train),\n",
    "        GridSearchCV(KNeighborsClassifier(), {'n_neighbors':param_odds}).fit(x_train,y_train),\n",
    "        GridSearchCV(tree.DecisionTreeClassifier(), {'min_samples_split':[1.0,3,5,7,9]}).fit(x_train, y_train),\n",
    "        GridSearchCV(linear_model.LogisticRegression(penalty='l1'), {'C':param_range}).fit(x_train, y_train)]\n",
    "\n",
    "for model in enumerate(grid):\n",
    "    print(\"{} = {} % with {}\".format(str(model[1].best_estimator_).split('(')[0],round(model[1].best_score_,2)*100,model[1].best_params_))"
   ]
  },
  {
   "cell_type": "markdown",
   "metadata": {
    "colab_type": "text",
    "id": "pMA9Lf3kn0NX"
   },
   "source": [
    "### Apply the highest accuracy trained models to the test set. \n",
    "- Report the accuracy of each model against the test set."
   ]
  },
  {
   "cell_type": "code",
   "execution_count": 8,
   "metadata": {
    "colab": {
     "base_uri": "https://localhost:8080/",
     "height": 90
    },
    "colab_type": "code",
    "id": "qVyln9-wI3CZ",
    "outputId": "77ea549b-903c-4705-fbee-537bcb3a63a8"
   },
   "outputs": [
    {
     "name": "stdout",
     "output_type": "stream",
     "text": [
      "SVC = 97.1 %\n",
      "KNeighborsClassifier = 96.7 %\n",
      "DecisionTreeClassifier = 80.1 %\n",
      "LogisticRegression = 93.5 %\n"
     ]
    }
   ],
   "source": [
    "models = [svm.SVC(kernel='rbf',C=grid[0].best_params_.get(\"C\"),gamma=grid[0].best_params_.get(\"gamma\")),\n",
    "          KNeighborsClassifier(n_neighbors=grid[1].best_params_.get(\"n_neighbors\")),\n",
    "          tree.DecisionTreeClassifier(min_samples_split=grid[2].best_params_.get(\"min_samples_split\")),\n",
    "          linear_model.LogisticRegression(penalty='l1',C=grid[3].best_params_.get(\"C\"))]\n",
    "\n",
    "test_accuracy = []\n",
    "for model in enumerate(models):\n",
    "    test_accuracy.append(round(np.mean(model_selection.cross_val_score(model[1],x_test,y_test,cv=skf))*100,1))\n",
    "    print(\"{} = {} %\".format(str(model[1]).split('(')[0],test_accuracy[len(test_accuracy)-1]))"
   ]
  },
  {
   "cell_type": "markdown",
   "metadata": {
    "colab_type": "text",
    "id": "tc8YcxbQ0Wv-"
   },
   "source": [
    "### Table of outputs."
   ]
  },
  {
   "cell_type": "code",
   "execution_count": 9,
   "metadata": {
    "colab": {
     "base_uri": "https://localhost:8080/",
     "height": 220
    },
    "colab_type": "code",
    "id": "_eojP_BUIPGV",
    "outputId": "17d8bd65-852e-4c41-b2b8-b23b358e125c"
   },
   "outputs": [
    {
     "data": {
      "text/html": [
       "<table border=\"1\" class=\"dataframe\">\n",
       "  <thead>\n",
       "    <tr style=\"text-align: right;\">\n",
       "      <th>Model</th>\n",
       "      <th>Default validation accuracy</th>\n",
       "      <th>Tuned validation accuracy</th>\n",
       "      <th>Selected hyperparameters</th>\n",
       "      <th>Final test set accuracy</th>\n",
       "    </tr>\n",
       "  </thead>\n",
       "  <tbody>\n",
       "    <tr>\n",
       "      <td>SVM</td>\n",
       "      <td>54.4 %</td>\n",
       "      <td>99.0 %</td>\n",
       "      <td>C = 1.0 |  gamma = 0.001</td>\n",
       "      <td>97.1 %</td>\n",
       "    </tr>\n",
       "    <tr>\n",
       "      <td>k-NN</td>\n",
       "      <td>98.7 %</td>\n",
       "      <td>98.0 %</td>\n",
       "      <td>n_neighbors = 1</td>\n",
       "      <td>96.7 %</td>\n",
       "    </tr>\n",
       "    <tr>\n",
       "      <td>Decision Trees</td>\n",
       "      <td>84.9 %</td>\n",
       "      <td>83.0 %</td>\n",
       "      <td>min_samples_split = 3</td>\n",
       "      <td>80.1 %</td>\n",
       "    </tr>\n",
       "    <tr>\n",
       "      <td>Logistic Regression</td>\n",
       "      <td>95.8 %</td>\n",
       "      <td>96.0 %</td>\n",
       "      <td>C = 0.1</td>\n",
       "      <td>93.5 %</td>\n",
       "    </tr>\n",
       "  </tbody>\n",
       "</table>"
      ],
      "text/plain": [
       "<IPython.core.display.HTML object>"
      ]
     },
     "metadata": {},
     "output_type": "display_data"
    }
   ],
   "source": [
    "import pandas as pd\n",
    "from IPython.display import display, HTML\n",
    "\n",
    "df = pd.DataFrame({\"Model\": [\"SVM\", \"k-NN\", \"Decision Trees\", \"Logistic Regression\"],\n",
    "                    \"Default validation accuracy\": [\"{} %\".format(model[1]) for model in enumerate(default_accuracy)],\n",
    "                    \"Tuned validation accuracy\": [\"{} %\".format(round(model[1].best_score_,2)*100,model[1].best_params_) for model in enumerate(grid)],\n",
    "                    \"Selected hyperparameters\": [\"{}\".format(str(model[1].best_params_).strip(\"{}\").replace(\"'\", \"\").replace(\":\", \" =\").replace(\",\", \" | \")) for model in enumerate(grid)],\n",
    "                    \"Final test set accuracy\": [\"{} %\".format(model[1]) for model in enumerate(test_accuracy)]})\n",
    "\n",
    "display(HTML(df.to_html(index=False)))"
   ]
  },
  {
   "cell_type": "markdown",
   "metadata": {
    "colab_type": "text",
    "id": "zVJbRv7m9zF2"
   },
   "source": [
    "### Bar graph of accuracy"
   ]
  },
  {
   "cell_type": "code",
   "execution_count": 10,
   "metadata": {
    "colab": {
     "base_uri": "https://localhost:8080/",
     "height": 297
    },
    "colab_type": "code",
    "id": "rwfUgmfvA6Nv",
    "outputId": "77b109a3-d221-4372-b73f-56aa6fc4291a"
   },
   "outputs": [
    {
     "data": {
      "image/png": "[encoded data removed]",
      "text/plain": [
       "<Figure size 432x288 with 1 Axes>"
      ]
     },
     "metadata": {
      "needs_background": "light"
     },
     "output_type": "display_data"
    }
   ],
   "source": [
    "import matplotlib.pyplot as plt\n",
    "%matplotlib inline\n",
    "\n",
    "fig, ax = plt.subplots()\n",
    "index, bar_width, opacity = np.arange(4), 0.25, 0.5\n",
    "\n",
    "plt.bar(index, default_accuracy, bar_width,alpha=opacity,color='r',label='Default validation accuracy')\n",
    "plt.bar(index + bar_width, [round(model[1].best_score_,2)*100 for model in enumerate(grid)], bar_width,alpha=opacity,color='y',label='Tuned validation accuracy')\n",
    "plt.bar(index + bar_width + bar_width, test_accuracy, bar_width,alpha=opacity,color='g',label='Final test set accuracy')\n",
    "plt.ylabel('Accuracy %'), plt.title('Model change'), plt.xticks(index + bar_width, ('SVM', 'k-NN', 'Decision Trees', 'Logistic Regression')), plt.legend(loc='lower right'), plt.tight_layout()\n",
    "\n",
    "plt.show()"
   ]
  },
  {
   "cell_type": "markdown",
   "metadata": {
    "colab_type": "text",
    "id": "ZK1iEDJVlxxe"
   },
   "source": [
    "### SVM parameters"
   ]
  },
  {
   "cell_type": "code",
   "execution_count": 11,
   "metadata": {
    "colab": {
     "base_uri": "https://localhost:8080/",
     "height": 319
    },
    "colab_type": "code",
    "id": "Q698ef5MlwYm",
    "outputId": "2e422311-d49f-4542-ded7-cbf5572aeec7"
   },
   "outputs": [
    {
     "data": {
      "image/png": "[encoded data removed]",
      "text/plain": [
       "<Figure size 432x288 with 1 Axes>"
      ]
     },
     "metadata": {
      "needs_background": "light"
     },
     "output_type": "display_data"
    }
   ],
   "source": [
    "from mpl_toolkits.mplot3d import Axes3D\n",
    "import matplotlib.ticker as mtick\n",
    "\n",
    "x,y,z = [],[],[]\n",
    "for mean, params in zip(grid[0].cv_results_['mean_test_score'], grid[0].cv_results_['params']):\n",
    "    x.append(params.get(\"C\"))\n",
    "    y.append(params.get(\"gamma\"))\n",
    "    z.append(float(mean)*100)\n",
    "\n",
    "fig = plt.figure()\n",
    "ax = Axes3D(fig)\n",
    "ax.set_xlabel('C'), ax.set_ylabel('gamma'), ax.set_zlabel('Accuracy'), ax.scatter(x, y, z), plt.title('SVM')\n",
    "ax.get_xaxis().set_major_formatter(plt.LogFormatter(10)), ax.get_yaxis().set_major_formatter(plt.LogFormatter(10))\n",
    "\n",
    "zticks = mtick.FormatStrFormatter('%.0f%%')\n",
    "ax.zaxis.set_major_formatter(zticks)\n",
    "\n",
    "plt.show()"
   ]
  },
  {
   "cell_type": "markdown",
   "metadata": {
    "colab_type": "text",
    "id": "P04eFevMlJbz"
   },
   "source": [
    "### k-NN parameters"
   ]
  },
  {
   "cell_type": "code",
   "execution_count": 12,
   "metadata": {
    "colab": {
     "base_uri": "https://localhost:8080/",
     "height": 296
    },
    "colab_type": "code",
    "id": "7QWIkPFflWfz",
    "outputId": "af5a713a-6e5c-4753-eba3-dae7ba03efb7"
   },
   "outputs": [
    {
     "data": {
      "image/png": "[encoded data removed]",
      "text/plain": [
       "<Figure size 432x288 with 1 Axes>"
      ]
     },
     "metadata": {
      "needs_background": "light"
     },
     "output_type": "display_data"
    }
   ],
   "source": [
    "x,y = [],[]\n",
    "for mean, params in zip(grid[1].cv_results_['mean_test_score'], grid[1].cv_results_['params']):\n",
    "    x.append(params.get(\"n_neighbors\"))\n",
    "    y.append(float(mean)*100)\n",
    "\n",
    "plt.plot(x, y) \n",
    "plt.xlabel('n_neighbors'), plt.ylabel('Accuracy %'), plt.title('k-NN'), plt.xticks(param_odds)\n",
    "\n",
    "plt.show() "
   ]
  },
  {
   "cell_type": "markdown",
   "metadata": {
    "colab_type": "text",
    "id": "yoFYaRYwrzT7"
   },
   "source": [
    "### Decision Tree parameters "
   ]
  },
  {
   "cell_type": "code",
   "execution_count": 13,
   "metadata": {
    "colab": {
     "base_uri": "https://localhost:8080/",
     "height": 296
    },
    "colab_type": "code",
    "id": "KajDcDyxr3e7",
    "outputId": "9ba4390d-b53e-4693-82a6-e1fe0a02e48a"
   },
   "outputs": [
    {
     "data": {
      "image/png": "[encoded data removed]",
      "text/plain": [
       "<Figure size 432x288 with 1 Axes>"
      ]
     },
     "metadata": {
      "needs_background": "light"
     },
     "output_type": "display_data"
    }
   ],
   "source": [
    "x,y = [],[]\n",
    "for mean, params in zip(grid[2].cv_results_['mean_test_score'], grid[2].cv_results_['params']):\n",
    "    x.append(params.get(\"min_samples_split\"))\n",
    "    y.append(float(mean)*100)\n",
    "\n",
    "plt.plot(x, y) \n",
    "plt.xlabel('min_samples_split'), plt.ylabel('Accuracy %'), plt.title('Decision Trees'), plt.xticks(param_odds)\n",
    "\n",
    "plt.show() "
   ]
  },
  {
   "cell_type": "markdown",
   "metadata": {
    "colab_type": "text",
    "id": "IWwla6X_r4Oo"
   },
   "source": [
    "### Logistic Regression parameters"
   ]
  },
  {
   "cell_type": "code",
   "execution_count": 14,
   "metadata": {
    "colab": {
     "base_uri": "https://localhost:8080/",
     "height": 299
    },
    "colab_type": "code",
    "id": "aAZ30jwpr6kS",
    "outputId": "06cc5c37-2201-48ab-ec4e-d0bfc9346503"
   },
   "outputs": [
    {
     "data": {
      "image/png": "[encoded data removed]",
      "text/plain": [
       "<Figure size 432x288 with 1 Axes>"
      ]
     },
     "metadata": {
      "needs_background": "light"
     },
     "output_type": "display_data"
    }
   ],
   "source": [
    "from matplotlib.ticker import PercentFormatter\n",
    "\n",
    "x,y = [],[]\n",
    "for mean, params in zip(grid[3].cv_results_['mean_test_score'], grid[3].cv_results_['params']):\n",
    "    x.append(params.get(\"C\"))\n",
    "    y.append(float(mean)*100)\n",
    "\n",
    "plt.loglog(x, y) \n",
    "plt.xlabel('C'), plt.ylabel('Accuracy %'), plt.title('Logistic Regression') \n",
    "plt.gca().yaxis.set_major_formatter(PercentFormatter(100))\n",
    "\n",
    "plt.show() "
   ]
  }
 ],
 "metadata": {
  "colab": {
   "collapsed_sections": [],
   "name": "HW4 Model selection validation.ipynb",
   "provenance": []
  },
  "kernelspec": {
   "display_name": "Python 3",
   "language": "python",
   "name": "python3"
  },
  "language_info": {
   "codemirror_mode": {
    "name": "ipython",
    "version": 3
   },
   "file_extension": ".py",
   "mimetype": "text/x-python",
   "name": "python",
   "nbconvert_exporter": "python",
   "pygments_lexer": "ipython3",
   "version": "3.7.3"
  }
 },
 "nbformat": 4,
 "nbformat_minor": 2
}
