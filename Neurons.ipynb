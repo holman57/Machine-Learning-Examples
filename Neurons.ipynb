{
  "cells": [
    {
      "cell_type": "code",
      "execution_count": 2,
      "id": "eaf893d3-8ab0-42ca-9a6b-5badbd98a129",
      "metadata": {
        "id": "eaf893d3-8ab0-42ca-9a6b-5badbd98a129"
      },
      "outputs": [],
      "source": [
        "import torch\n",
        "import torch.nn as nn"
      ]
    },
    {
      "cell_type": "code",
      "source": [
        "def neuron(input):\n",
        "  weights = torch.Tensor([0.5, 0.5, 0.5])\n",
        "  b = torch.Tensor([0.5])\n",
        "  return torch.add(torch.matmul(input, weights), b)"
      ],
      "metadata": {
        "id": "sG8lWR5s-rCs"
      },
      "id": "sG8lWR5s-rCs",
      "execution_count": 3,
      "outputs": []
    },
    {
      "cell_type": "code",
      "source": [
        "# class Model(nn.Module):\n",
        "#     def __init__(self):\n",
        "#         super(Model, self).__init__()\n",
        "#         self.linear1 = nn.Linear(2, 3)\n",
        "#         self.linear2 = nn.Linear(3, 2)\n",
        "\n",
        "#     def forward(self, x):\n",
        "#         h = torch.sigmoid(self.linear1(x))\n",
        "#         o = torch.sigmoid(self.linear2(h))\n",
        "#         return o"
      ],
      "metadata": {
        "id": "CTST10mj_g6Z"
      },
      "id": "CTST10mj_g6Z",
      "execution_count": null,
      "outputs": []
    },
    {
      "cell_type": "code",
      "source": [
        "seed = 172\n",
        "torch.manual_seed(seed)\n",
        "torch.cuda.manual_seed(seed)\n",
        "\n",
        "def fnn(input):\n",
        "    model = nn.Sequential(nn.Linear(10, 128),\n",
        "                        nn.ReLU(),\n",
        "                        nn.Linear(128, 64),\n",
        "                        nn.ReLU(),\n",
        "                        nn.Linear(64, 2)\n",
        "                    )\n",
        "    return model(input)"
      ],
      "metadata": {
        "id": "p7K1XFWA_Gk-"
      },
      "id": "p7K1XFWA_Gk-",
      "execution_count": 4,
      "outputs": []
    },
    {
      "cell_type": "code",
      "source": [],
      "metadata": {
        "id": "IsvmPPwu_J7G"
      },
      "id": "IsvmPPwu_J7G",
      "execution_count": null,
      "outputs": []
    }
  ],
  "metadata": {
    "kernelspec": {
      "display_name": "Python 3 (ipykernel)",
      "language": "python",
      "name": "python3"
    },
    "language_info": {
      "codemirror_mode": {
        "name": "ipython",
        "version": 3
      },
      "file_extension": ".py",
      "mimetype": "text/x-python",
      "name": "python",
      "nbconvert_exporter": "python",
      "pygments_lexer": "ipython3",
      "version": "3.11.6"
    },
    "colab": {
      "provenance": []
    }
  },
  "nbformat": 4,
  "nbformat_minor": 5
}