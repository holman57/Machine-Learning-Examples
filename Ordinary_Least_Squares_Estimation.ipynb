{
  "nbformat": 4,
  "nbformat_minor": 0,
  "metadata": {
    "colab": {
      "name": "Ordinary Least-Squares Estimation.ipynb",
      "provenance": [],
      "collapsed_sections": []
    },
    "kernelspec": {
      "name": "python3",
      "display_name": "Python 3"
    }
  },
  "cells": [
    {
      "cell_type": "markdown",
      "metadata": {
        "id": "M9MqXglpTn-G",
        "colab_type": "text"
      },
      "source": [
        "# Ordinary Least-Squares Estimation"
      ]
    },
    {
      "cell_type": "code",
      "metadata": {
        "id": "QwPWVdjq3BlJ",
        "colab_type": "code",
        "colab": {}
      },
      "source": [
        "import pandas as pd\n",
        "import numpy as np\n",
        "from numpy.linalg import inv\n",
        "from matplotlib import pyplot as plt"
      ],
      "execution_count": 1,
      "outputs": []
    },
    {
      "cell_type": "markdown",
      "metadata": {
        "id": "wnicRTSy2g61",
        "colab_type": "text"
      },
      "source": [
        "1. Proofs involving ordinary least squares https://en.wikipedia.org/wiki/Proofs_involving_ordinary_least_squares\n",
        "2. OLS in Matrix Form https://web.stanford.edu/~mrosenfe/soc_meth_proj3/matrix_OLS_NYU_notes.pdf \n",
        "3. Least Squares Estimation https://stat.ethz.ch/~geer/bsa199_o.pdf \n",
        "4. Simple Linear Regression Analysis http://home.iitk.ac.in/~shalab/econometrics/Chapter2-Econometrics-SimpleLinearRegressionAnalysis.pdf"
      ]
    },
    {
      "cell_type": "code",
      "metadata": {
        "id": "0qn30yL51xw6",
        "colab_type": "code",
        "colab": {}
      },
      "source": [
        "μ, σ, d = 1, 3, 300\n",
        "x = σ * np.random.randn(d) + μ\n",
        "e = 0.8 * np.random.randn(d)\n",
        "y = 1 + 0.2 * x + e\n",
        "X = pd.DataFrame({'x': x, 'y': y})"
      ],
      "execution_count": 2,
      "outputs": []
    },
    {
      "cell_type": "markdown",
      "metadata": {
        "id": "KWsVFwP85qYD",
        "colab_type": "text"
      },
      "source": [
        "- Let's assume that the independent variables are $\\vec{x}=[x_1,x_2,...,x_d]$ where *d* is the dimensionality of the data, $\\vec{x}$ is a single example from the data, and $x_j$ is the example's $j^{th}$ attribute value. \n",
        "\n",
        "- If the Models parameters are $\\vec{w}=[w_0,w_1,w_2,...,w_d]$, then the models prediction would be $\\hat{y}\\approx w_0 + \\sum_{j=1}^d w_j x_j.$ If we prepend a $1$ to the independent variables such that $\\vec{x}=[1,x_1,x_2,...,x_d]$ then $\\hat{y}\\approx w_0 + \\sum_{j=1}^d w_j x_j = \\vec{x} \\cdot \\vec{w},$ the dot product of the independent variables row vector and the parameters (weights) column vector. In least-squares estimation, we find the parameter values, $\\vec{w}$, that minimize the sum of the mean squared loss over all *n* training examples:\n",
        "\n",
        "$$\\vec{w} = \\text{arg min}_\\vec{w} \\sum_{j=1}^n (\\vec{x}_i \\cdot \\vec{w} - y_i )^2 $$"
      ]
    },
    {
      "cell_type": "code",
      "metadata": {
        "id": "MrsG40AA2dHJ",
        "colab_type": "code",
        "colab": {
          "base_uri": "https://localhost:8080/",
          "height": 388
        },
        "outputId": "09c448fd-a5c1-49b4-b6d3-e93450c61cfc"
      },
      "source": [
        "x̄, ȳ = np.mean(x), np.mean(y)\n",
        "X['xycov'] = (X['x'] - x̄) * (X['y'] - ȳ)\n",
        "X['xvar'] = (X['x'] - x̄)**2\n",
        "coef = X['xycov'].sum() / X['xvar'].sum()\n",
        "intercept = ȳ - (coef * x̄)\n",
        "Y = intercept + coef * x\n",
        "plt.figure(figsize=(8, 6))\n",
        "plt.plot(x, Y, color='red'), plt.plot(x, y, 'bo')\n",
        "plt.xlabel('X'), plt.ylabel('y')\n",
        "plt.show()"
      ],
      "execution_count": 3,
      "outputs": [
        {
          "output_type": "display_data",
          "data": {
            "image/png": "[encoded data removed]",
            "text/plain": [
              "<Figure size 576x432 with 1 Axes>"
            ]
          },
          "metadata": {
            "tags": [],
            "needs_background": "light"
          }
        }
      ]
    },
    {
      "cell_type": "markdown",
      "metadata": {
        "id": "YMycGvr0Vb6I",
        "colab_type": "text"
      },
      "source": [
        "- Now putting the independent and dependent variables in matrices **X** and **Y** respectively, the loss function L, given a dataset **D** and parameters $\\vec{w}$, can be rewritten as:"
      ]
    },
    {
      "cell_type": "markdown",
      "metadata": {
        "id": "67c1TKPKb90U",
        "colab_type": "text"
      },
      "source": [
        "$L(\\matrix{D},\\vec{w})= \\| \\matrix{X}\\vec{w}-\\matrix{Y} \\|^2 =(\\matrix{X}\\vec{w}-\\matrix{Y})^T(\\matrix{X}\\vec{w}-\\vec{Y}) = \\vec{w}^T\\matrix{X}^T\\matrix{X}\\vec{w} -\\matrix{Y}^T \\matrix{X}\\vec{w} - \\vec{w}^T\\matrix{X}^T\\matrix{Y} + \\matrix{Y}^T\\matrix{Y}$"
      ]
    },
    {
      "cell_type": "markdown",
      "metadata": {
        "id": "hVagfTe3eIZP",
        "colab_type": "text"
      },
      "source": [
        "- Since the loss is a convex quadratic function, $\\|\\matrix{X}\\vec{w} - \\matrix{Y} \\|^2$\n",
        ", the optimal\n",
        "solution lies at the point its gradient is zero. The gradient of the loss\n",
        "function with respect to w is:"
      ]
    },
    {
      "cell_type": "markdown",
      "metadata": {
        "id": "ZREJL8J_tk9K",
        "colab_type": "text"
      },
      "source": [
        "$\\frac{\\partial L(\\matrix{D},\\vec{w})}{\\partial \\vec{w}}=\\frac{\\partial}{\\partial \\vec{w}}(\\vec{w}^T\\matrix{X}^T\\matrix{X}\\vec{w} -\\matrix{Y}^T \\matrix{X}\\vec{w} - \\vec{w}^T\\matrix{X}^T\\matrix{Y} + \\matrix{Y}^T\\matrix{Y})=2\\vec{w}^T\\matrix{X}^T\\matrix{X}-2\\matrix{Y}^T\\matrix{X}=0$"
      ]
    },
    {
      "cell_type": "markdown",
      "metadata": {
        "id": "p1wlCCzbu9BK",
        "colab_type": "text"
      },
      "source": [
        "- Setting the gradient to zero produces the value of $\\vec{w}$ that leads to the least squared error:"
      ]
    },
    {
      "cell_type": "markdown",
      "metadata": {
        "id": "j7QJTfXPvHz4",
        "colab_type": "text"
      },
      "source": [
        "$2\\vec{w}^T\\matrix{X}^T\\matrix{X}-2\\matrix{Y}^T\\matrix{X}=0$\n",
        "\n",
        "$\\vec{w}^T\\matrix{X}^T\\matrix{X}=\\matrix{Y}^T\\matrix{X}$\n",
        "\n",
        "$\\matrix{X}^T\\matrix{X}\\vec{w}=\\matrix{X}^T\\matrix{Y}$\n",
        "\n",
        "$\\vec{w}=(\\matrix{X}^T\\matrix{X})^{-1}\\matrix{X}^T\\matrix{Y}$"
      ]
    },
    {
      "cell_type": "markdown",
      "metadata": {
        "id": "OM8Hd0MuwIH5",
        "colab_type": "text"
      },
      "source": [
        "- This is the closed form solution for $\\vec{w}$. Write and execute a code for calculating w, print $\\vec{w}$ and compare it to the intercept and coefficient values you output earlier."
      ]
    },
    {
      "cell_type": "code",
      "metadata": {
        "id": "PNppjF9ouQpB",
        "colab_type": "code",
        "colab": {}
      },
      "source": [
        "X = X.to_numpy()"
      ],
      "execution_count": 4,
      "outputs": []
    },
    {
      "cell_type": "code",
      "metadata": {
        "id": "0XUOqiRxRH0U",
        "colab_type": "code",
        "colab": {}
      },
      "source": [
        "w = np.matmul(inv(np.matmul(X.T, X)), np.matmul(X.T, Y))"
      ],
      "execution_count": 5,
      "outputs": []
    },
    {
      "cell_type": "code",
      "metadata": {
        "id": "5fxO-naVy9Wi",
        "colab_type": "code",
        "colab": {
          "base_uri": "https://localhost:8080/",
          "height": 388
        },
        "outputId": "7e153a14-ff24-4ba5-8d82-5f9711f64d2c"
      },
      "source": [
        "W = w[0] + w[1] * x\n",
        "plt.figure(figsize=(8, 6))\n",
        "plt.plot(x, y, 'bo'), plt.plot(x, W, color='green'), plt.plot(x, Y, color='red')\n",
        "plt.xlabel('X'), plt.ylabel('y')\n",
        "plt.show()"
      ],
      "execution_count": 6,
      "outputs": [
        {
          "output_type": "display_data",
          "data": {
            "image/png": "[encoded data removed]",
            "text/plain": [
              "<Figure size 576x432 with 1 Axes>"
            ]
          },
          "metadata": {
            "tags": [],
            "needs_background": "light"
          }
        }
      ]
    },
    {
      "cell_type": "code",
      "metadata": {
        "id": "ohIb6l1W6ffd",
        "colab_type": "code",
        "colab": {
          "base_uri": "https://localhost:8080/",
          "height": 105
        },
        "outputId": "8599fd25-c00b-4965-bc46-4ed783fb8a61"
      },
      "source": [
        "print(f\"intercept: {intercept}\\ncoef: {coef}\")\n",
        "print(\"------------------------------------------\")\n",
        "print(f\"intercept: {w[0]}\\ncoef: {w[1]}\")"
      ],
      "execution_count": 7,
      "outputs": [
        {
          "output_type": "stream",
          "text": [
            "intercept: 1.0395162615174542\n",
            "coef: 0.20502124228824492\n",
            "------------------------------------------\n",
            "intercept: 0.11905898760263595\n",
            "coef: 0.5201357586774191\n"
          ],
          "name": "stdout"
        }
      ]
    },
    {
      "cell_type": "markdown",
      "metadata": {
        "id": "NuKZnNjy_1xo",
        "colab_type": "text"
      },
      "source": [
        "### RMSE"
      ]
    },
    {
      "cell_type": "code",
      "metadata": {
        "id": "I-Xlgu5l9G3p",
        "colab_type": "code",
        "colab": {
          "base_uri": "https://localhost:8080/",
          "height": 34
        },
        "outputId": "bf6acc5b-fa92-41c5-fe8c-df57a4d66732"
      },
      "source": [
        "np.sqrt(np.mean(np.matmul((np.matmul(X,w) - y).T, (np.matmul(X,w) - y))))"
      ],
      "execution_count": 8,
      "outputs": [
        {
          "output_type": "execute_result",
          "data": {
            "text/plain": [
              "9.767986291017053"
            ]
          },
          "metadata": {
            "tags": []
          },
          "execution_count": 8
        }
      ]
    },
    {
      "cell_type": "code",
      "metadata": {
        "id": "6fgfnSvn9jtJ",
        "colab_type": "code",
        "colab": {}
      },
      "source": [
        ""
      ],
      "execution_count": 8,
      "outputs": []
    }
  ]
}